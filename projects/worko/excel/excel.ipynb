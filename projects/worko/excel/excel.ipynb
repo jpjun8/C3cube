{
 "cells": [
  {
   "cell_type": "code",
   "execution_count": 1,
   "metadata": {},
   "outputs": [],
   "source": [
    "import openpyxl as op"
   ]
  },
  {
   "attachments": {},
   "cell_type": "markdown",
   "metadata": {},
   "source": [
    "Create a new Excel file"
   ]
  },
  {
   "cell_type": "code",
   "execution_count": 3,
   "metadata": {},
   "outputs": [],
   "source": [
    "wb = op.Workbook()\n",
    "wb.save('openpyxl_test.xlsx')"
   ]
  },
  {
   "attachments": {},
   "cell_type": "markdown",
   "metadata": {},
   "source": [
    "Load an existing Excel file"
   ]
  },
  {
   "cell_type": "code",
   "execution_count": 8,
   "metadata": {},
   "outputs": [
    {
     "name": "stdout",
     "output_type": "stream",
     "text": [
      "<openpyxl.workbook.workbook.Workbook object at 0x000001C0CC6CAC20>\n"
     ]
    }
   ],
   "source": [
    "wb = op.load_workbook('./openpyxl_test.xlsx')\n",
    "print(wb)"
   ]
  },
  {
   "attachments": {},
   "cell_type": "markdown",
   "metadata": {},
   "source": [
    "Create a new Sheet in a workbook"
   ]
  },
  {
   "cell_type": "code",
   "execution_count": 5,
   "metadata": {},
   "outputs": [
    {
     "name": "stdout",
     "output_type": "stream",
     "text": [
      "<Worksheet \"new_sheet1\">\n"
     ]
    }
   ],
   "source": [
    "ws = wb.create_sheet('new_sheet1')\n",
    "print(ws)\n",
    "wb.save('test_result.xlsx')"
   ]
  },
  {
   "attachments": {},
   "cell_type": "markdown",
   "metadata": {},
   "source": [
    "Access to existing sheets"
   ]
  },
  {
   "cell_type": "code",
   "execution_count": 10,
   "metadata": {},
   "outputs": [
    {
     "name": "stdout",
     "output_type": "stream",
     "text": [
      "<Worksheet \"화\">\n"
     ]
    }
   ],
   "source": [
    "ws = wb.active # select active sheet\n",
    "print(ws)"
   ]
  },
  {
   "cell_type": "code",
   "execution_count": 11,
   "metadata": {},
   "outputs": [
    {
     "name": "stdout",
     "output_type": "stream",
     "text": [
      "<Worksheet \"무\">\n"
     ]
    }
   ],
   "source": [
    "ws = wb['무'] # select '무' sheet\n",
    "print(ws)"
   ]
  },
  {
   "cell_type": "code",
   "execution_count": 13,
   "metadata": {},
   "outputs": [
    {
     "name": "stdout",
     "output_type": "stream",
     "text": [
      "['업', '무', '자', '동', '화']\n"
     ]
    }
   ],
   "source": [
    "wb = op.load_workbook('./openpyxl_test.xlsx')\n",
    "ws_list = wb.sheetnames # all sheet names\n",
    "print(ws_list)"
   ]
  },
  {
   "cell_type": "code",
   "execution_count": 15,
   "metadata": {},
   "outputs": [
    {
     "name": "stdout",
     "output_type": "stream",
     "text": [
      "<Worksheet \"업\">\n",
      "<Worksheet \"무\">\n",
      "<Worksheet \"자\">\n",
      "<Worksheet \"동\">\n",
      "<Worksheet \"화\">\n"
     ]
    }
   ],
   "source": [
    "for sht in ws_list:\n",
    "    ws = wb[sht] # Create sheet object\n",
    "    print(ws)"
   ]
  },
  {
   "attachments": {},
   "cell_type": "markdown",
   "metadata": {},
   "source": [
    "Read cell data"
   ]
  },
  {
   "cell_type": "code",
   "execution_count": 17,
   "metadata": {},
   "outputs": [
    {
     "name": "stdout",
     "output_type": "stream",
     "text": [
      "cell(1,2) :  4\n",
      "Range(\"B1\"): 4\n"
     ]
    }
   ],
   "source": [
    "wb = op.load_workbook('./openpyxl_test.xlsx')\n",
    "ws = wb.active\n",
    "\n",
    "# Method 1 : Use Cell attribute from Sheet\n",
    "data1 = ws.cell(row=1, column=2).value\n",
    "\n",
    "# Method 2 : Use Exce; index(range)\n",
    "data2 = ws['B1'].value\n",
    "\n",
    "# Print them out\n",
    "print('cell(1,2) : ', data1)\n",
    "print('Range(\"B1\"):', data2)"
   ]
  },
  {
   "cell_type": "code",
   "execution_count": 20,
   "metadata": {},
   "outputs": [
    {
     "name": "stdout",
     "output_type": "stream",
     "text": [
      "1\n",
      "4\n",
      "7\n",
      "2\n",
      "5\n",
      "8\n",
      "3\n",
      "6\n",
      "9\n"
     ]
    }
   ],
   "source": [
    "rng = ws[\"A1:C3\"]\n",
    "for rng_data in rng:\n",
    "    for cell_data in rng_data:\n",
    "        print(cell_data.value)"
   ]
  },
  {
   "attachments": {},
   "cell_type": "markdown",
   "metadata": {},
   "source": [
    "Write data to cell"
   ]
  },
  {
   "cell_type": "code",
   "execution_count": 24,
   "metadata": {},
   "outputs": [],
   "source": [
    "wb = op.load_workbook(r'openpyxl_test.xlsx')\n",
    "ws = wb['무']\n",
    "\n",
    "# Write to 'B1'\n",
    "ws.cell(row=1, column=2).value = '입력테스트1'\n",
    "\n",
    "# Write to 'C1'\n",
    "ws['C1'].value = '입력테스트2'\n",
    "\n",
    "wb.save('result.xlsx')"
   ]
  },
  {
   "cell_type": "code",
   "execution_count": 25,
   "metadata": {},
   "outputs": [],
   "source": [
    "datalist = [2, 4, 8, 16, 32, 64, 128, 256]\n",
    "i = 1\n",
    "for data in datalist:\n",
    "    ws.cell(row=i, column=1).value = data\n",
    "    i += 1\n",
    "wb.save('result.xlsx')"
   ]
  },
  {
   "attachments": {},
   "cell_type": "markdown",
   "metadata": {},
   "source": [
    "Delete Cell data"
   ]
  },
  {
   "cell_type": "code",
   "execution_count": 27,
   "metadata": {},
   "outputs": [],
   "source": [
    "wb = op.load_workbook(r'openpyxl_test.xlsx')\n",
    "ws = wb.active\n",
    "\n",
    "rng = ws[\"A1:C3\"]\n",
    "\n",
    "for row_data in rng:\n",
    "    for data in row_data:\n",
    "        # 해당 data가 짝수이면 공백\n",
    "        if (data.value % 2) == 0:\n",
    "            data.value = ''\n",
    "\n",
    "wb.save('result.xlsx')"
   ]
  },
  {
   "cell_type": "code",
   "execution_count": 28,
   "metadata": {},
   "outputs": [],
   "source": [
    "wb = op.load_workbook(r'openpyxl_test.xlsx')\n",
    "ws = wb.active\n",
    "\n",
    "ws.delete_rows(1, 2) # 1행부터 2행까지 삭제\n",
    "wb.save('result.xlsx')"
   ]
  },
  {
   "cell_type": "code",
   "execution_count": 29,
   "metadata": {},
   "outputs": [],
   "source": [
    "wb = op.load_workbook(r'openpyxl_test.xlsx')\n",
    "ws = wb.active\n",
    "\n",
    "ws.delete_cols(2, 1) # 2열부터 1개 열 삭제\n",
    "wb.save('result.xlsx')"
   ]
  },
  {
   "cell_type": "code",
   "execution_count": 30,
   "metadata": {},
   "outputs": [],
   "source": [
    "wb = op.load_workbook(r'openpyxl_test.xlsx')\n",
    "ws = wb.active\n",
    "wb.remove(ws)\n",
    "wb.create_sheet('test')\n",
    "wb.save('result.xlsx')"
   ]
  }
 ],
 "metadata": {
  "kernelspec": {
   "display_name": "Python 3",
   "language": "python",
   "name": "python3"
  },
  "language_info": {
   "codemirror_mode": {
    "name": "ipython",
    "version": 3
   },
   "file_extension": ".py",
   "mimetype": "text/x-python",
   "name": "python",
   "nbconvert_exporter": "python",
   "pygments_lexer": "ipython3",
   "version": "3.11.0 (main, Oct 24 2022, 18:26:48) [MSC v.1933 64 bit (AMD64)]"
  },
  "orig_nbformat": 4,
  "vscode": {
   "interpreter": {
    "hash": "c261aea317cc0286b3b3261fbba9abdec21eaa57589985bb7a274bf54d6cc0a7"
   }
  }
 },
 "nbformat": 4,
 "nbformat_minor": 2
}
