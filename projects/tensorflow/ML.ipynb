{
 "cells": [
  {
   "cell_type": "markdown",
   "metadata": {},
   "source": [
    "# 이론"
   ]
  },
  {
   "cell_type": "markdown",
   "metadata": {},
   "source": [
    "Tensorflow 불러오기 (버전 확인)"
   ]
  },
  {
   "cell_type": "code",
   "execution_count": 1,
   "metadata": {},
   "outputs": [
    {
     "name": "stdout",
     "output_type": "stream",
     "text": [
      "Tensorflow version: 2.10.0\n"
     ]
    }
   ],
   "source": [
    "import tensorflow as tf\n",
    "print(\"Tensorflow version:\", tf.__version__)"
   ]
  },
  {
   "cell_type": "markdown",
   "metadata": {},
   "source": [
    "Loss Function (손실함수)\n",
    "\n",
    "$$\\frac{1}{n} \\Sigma(\\hat{y} - y)^2$$"
   ]
  },
  {
   "cell_type": "markdown",
   "metadata": {},
   "source": [
    "Activation Function (활성함수)\n",
    "\n",
    "> sigmoid : $$\\frac{1}{1+e^{-x}}$$\n",
    "> hyperbolic tangent : $$\\frac{e^x - e^{-x}}{e^x + e^{-x}}$$\n",
    "> rectified linear units : 양수면 x 그대로, 음수면 0\n",
    "\n",
    "- Non-linearity 추가하여 비선형 예측이 가능함"
   ]
  },
  {
   "cell_type": "markdown",
   "metadata": {},
   "source": [
    "경사하강법 : 최적의 w값을 찾는법 (오차가 가장 적은 w값)\n",
    "\n",
    "$$ w_1 <= w_1 - \\alpha \\frac{\\partial E}{\\partial w_1}$$"
   ]
  },
  {
   "cell_type": "markdown",
   "metadata": {},
   "source": [
    "Local minima : 기울기만 빼지말고 learning rate * 기울기를 뺌\n",
    "\n",
    "learning rate : $\\alpha$"
   ]
  },
  {
   "cell_type": "markdown",
   "metadata": {},
   "source": [
    "Learning rate $(\\alpha)$ optimizer\n",
    "- Momentum : 가속도를 유지하자\n",
    "- AdaGrad : 자주변하는 w는 작게, 자주변하면 크게\n",
    "- RMSProp : AdaGrad인데 제곱함\n",
    "- AdaDelta : AdaGrad인데 a 너무 작아져서 학습안되는거 방지해줌\n",
    "- Adam : RMSProp + Momentum\n",
    "\n",
    "여러개 써보고 모델과 어울리는 것 선택하여 사용 : 보통 Adam"
   ]
  },
  {
   "cell_type": "markdown",
   "metadata": {},
   "source": [
    "딥러닝 학습과정:\n",
    "1. w값들 랜덤으로 찍음\n",
    "2. w값 바탕으로 총손실 E를 계산함\n",
    "3. 경사하강으로 새로운 w값 업데이트\n",
    "4. 2-3번 반복 until E가 최소일때까지"
   ]
  },
  {
   "cell_type": "markdown",
   "metadata": {},
   "source": [
    "# Tensorflow 기초"
   ]
  },
  {
   "cell_type": "code",
   "execution_count": null,
   "metadata": {},
   "outputs": [],
   "source": [
    "tensor1 = tf.constant(3)\n",
    "print(tensor1)"
   ]
  }
 ],
 "metadata": {
  "kernelspec": {
   "display_name": "Python 3 (ipykernel)",
   "language": "python",
   "name": "python3"
  },
  "language_info": {
   "codemirror_mode": {
    "name": "ipython",
    "version": 3
   },
   "file_extension": ".py",
   "mimetype": "text/x-python",
   "name": "python",
   "nbconvert_exporter": "python",
   "pygments_lexer": "ipython3",
   "version": "3.9.13"
  },
  "vscode": {
   "interpreter": {
    "hash": "ef42a34cd511bf3b59e4176366bc50c5093ac13713eb94c7c0f774ad3d4af145"
   }
  }
 },
 "nbformat": 4,
 "nbformat_minor": 2
}
