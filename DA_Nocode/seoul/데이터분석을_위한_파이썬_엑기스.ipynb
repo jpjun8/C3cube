{
  "nbformat": 4,
  "nbformat_minor": 0,
  "metadata": {
    "kernelspec": {
      "display_name": "Python 3",
      "language": "python",
      "name": "python3"
    },
    "language_info": {
      "codemirror_mode": {
        "name": "ipython",
        "version": 3
      },
      "file_extension": ".py",
      "mimetype": "text/x-python",
      "name": "python",
      "nbconvert_exporter": "python",
      "pygments_lexer": "ipython3",
      "version": "3.7.6"
    },
    "colab": {
      "provenance": []
    }
  },
  "cells": [
    {
      "cell_type": "markdown",
      "metadata": {
        "id": "YhUDHJnIVw2_"
      },
      "source": [
        "## 파이썬"
      ]
    },
    {
      "cell_type": "markdown",
      "metadata": {
        "id": "qpjq6ryZVw3F"
      },
      "source": [
        "1. 언어들 중 배우기가 쉬운 편에 속합니다.\n",
        "2. 데이터를 다루는데 용이합니다.\n",
        "3. 다양한 모듈/패키지가 존재하여 활용범위가 넓습니다."
      ]
    },
    {
      "cell_type": "markdown",
      "metadata": {
        "id": "cePjhvbUVw3G"
      },
      "source": [
        "### 왜 데이터 분석을 하는데 파이썬이 필요하지?"
      ]
    },
    {
      "cell_type": "markdown",
      "metadata": {
        "id": "FyQhONEtVw3H"
      },
      "source": [
        "1. 파이썬은 데이터분석, 머신러닝/인공지능을 지원하는 다양한 모듈을 보유하고 있습니다.\n",
        "\n",
        " - pandas : 데이터분석을 쉽게 해주는 엑셀 파이썬 버전\n",
        " - numpy : 수치해석/통계 관련 작업 지원 \n",
        " - matplotlib, seaborn : 여러 시각화 도구를 제공\n",
        " - Scikit-learn, TensorFlow : 다양한 머신러닝/딥러닝 모델 지원\n",
        " \n",
        " \n",
        "2. 데이터 분석을 위한 데이터 정제를 쉽게 할 수 있도록 도와줍니다.\n",
        "\n",
        " - 각 자료형의 다양한 기능을 활용하여 데이터 정제\n",
        " - 함수/조건/반복을 활용하여 쉽게 데이터 정제"
      ]
    },
    {
      "cell_type": "markdown",
      "metadata": {
        "id": "jz1O2kawVw3I"
      },
      "source": [
        "## 자료형"
      ]
    },
    {
      "cell_type": "markdown",
      "metadata": {
        "id": "6TJttxsPVw3I"
      },
      "source": [
        "### 변수"
      ]
    },
    {
      "cell_type": "markdown",
      "metadata": {
        "id": "TO2GcqhgVw3J"
      },
      "source": [
        "#### a                        =                     6"
      ]
    },
    {
      "cell_type": "markdown",
      "metadata": {
        "id": "jG9fOiHtVw3J"
      },
      "source": [
        "변수명 : 데이터를 저장하는 공간 이름"
      ]
    },
    {
      "cell_type": "markdown",
      "metadata": {
        "id": "_Eyi4Hl7Vw3K"
      },
      "source": [
        "변수명은 단순히 데이터를 저장하는 공간을 부르는 명칭으로 코딩하는 사람 마음대로 지을 수 있습니다. 다만, 아래 규칙을 지켜야 합니다."
      ]
    },
    {
      "cell_type": "markdown",
      "metadata": {
        "id": "Fix2yXqyVw3L"
      },
      "source": [
        "#### <변수명 작성 규칙>"
      ]
    },
    {
      "cell_type": "code",
      "metadata": {
        "id": "SFB9DkEfVw3M"
      },
      "source": [
        "# A = 6 : (o) 대/소문자를 구분합니다\n",
        "\n",
        "A = 6"
      ],
      "execution_count": null,
      "outputs": []
    },
    {
      "cell_type": "code",
      "metadata": {
        "id": "IL6OiuezVw3N",
        "outputId": "20f3b799-ba35-40d0-b77f-ad1d352b3c01"
      },
      "source": [
        "# (x) 띄어쓰기는 할 수 없습니다.\n",
        "\n",
        "a b = 6"
      ],
      "execution_count": null,
      "outputs": [
        {
          "ename": "SyntaxError",
          "evalue": "invalid syntax (<ipython-input-2-ef4beeb62d16>, line 3)",
          "output_type": "error",
          "traceback": [
            "\u001b[1;36m  File \u001b[1;32m\"<ipython-input-2-ef4beeb62d16>\"\u001b[1;36m, line \u001b[1;32m3\u001b[0m\n\u001b[1;33m    a b = 6\u001b[0m\n\u001b[1;37m      ^\u001b[0m\n\u001b[1;31mSyntaxError\u001b[0m\u001b[1;31m:\u001b[0m invalid syntax\n"
          ]
        }
      ]
    },
    {
      "cell_type": "code",
      "metadata": {
        "id": "wShZFRM1Vw3P"
      },
      "source": [
        "# (o) 특수기호는 밑줄 기호만 사용할 수 있습니다.\n",
        "\n",
        "a_b = 6 "
      ],
      "execution_count": null,
      "outputs": []
    },
    {
      "cell_type": "code",
      "metadata": {
        "id": "0JTa-yCKVw3P",
        "outputId": "1d0422bd-73b3-45df-e873-f5ee653cb4b1"
      },
      "source": [
        "# (x) 숫자가 맨 앞으로 오거나 숫자 단독으로 사용할 수 없습니다.\n",
        "\n",
        "1a = 6"
      ],
      "execution_count": null,
      "outputs": [
        {
          "ename": "SyntaxError",
          "evalue": "invalid syntax (<ipython-input-4-1a513ab2cd4e>, line 3)",
          "output_type": "error",
          "traceback": [
            "\u001b[1;36m  File \u001b[1;32m\"<ipython-input-4-1a513ab2cd4e>\"\u001b[1;36m, line \u001b[1;32m3\u001b[0m\n\u001b[1;33m    1a = 6\u001b[0m\n\u001b[1;37m     ^\u001b[0m\n\u001b[1;31mSyntaxError\u001b[0m\u001b[1;31m:\u001b[0m invalid syntax\n"
          ]
        }
      ]
    },
    {
      "cell_type": "code",
      "metadata": {
        "id": "IMCx9A7XVw3Q"
      },
      "source": [
        "# (o) 맨 앞에 문자가 있으면 숫자를 사용할 수 있습니다.\n",
        "\n",
        "a1 = 6"
      ],
      "execution_count": null,
      "outputs": []
    },
    {
      "cell_type": "markdown",
      "metadata": {
        "id": "90tclXfzVw3Q"
      },
      "source": [
        "#### 파이썬 자료형"
      ]
    },
    {
      "cell_type": "markdown",
      "metadata": {
        "id": "S9AtiuaRVw3Q"
      },
      "source": [
        "1) a=6\n",
        " - 데이터가 정수일 경우 -> int\n",
        "\n",
        "2) b=3.14\n",
        " - 데이터가 실수일 경우 -> float\n",
        "\n",
        "3) c='python'\n",
        " - 데이터가 문자열일 경우 -> str\n",
        "\n",
        "4) d=[1, 2, 3, 4, 5]\n",
        " - 데이터가 리스트일 경우 -> list\n",
        "\n",
        "5) e={“사과”:”apple”, “포도”:”grape”, “오렌지”:”orange”}\n",
        " - 데이터가 딕셔너리일 경우 -> dict\n",
        "\n",
        "6) f=True\n",
        " - 데이터가 부울일 경우 -> bool "
      ]
    },
    {
      "cell_type": "markdown",
      "metadata": {
        "id": "SJ7FoQ-uVw3Q"
      },
      "source": [
        "#### 숫자형(int, float)"
      ]
    },
    {
      "cell_type": "code",
      "metadata": {
        "id": "3lNcIiT5Vw3Q",
        "outputId": "b74b5b22-bce3-43e2-9fe3-47f25006dfd2"
      },
      "source": [
        "# 정수형\n",
        "\n",
        "a=6\n",
        "type(a)"
      ],
      "execution_count": null,
      "outputs": [
        {
          "data": {
            "text/plain": [
              "int"
            ]
          },
          "execution_count": 7,
          "metadata": {},
          "output_type": "execute_result"
        }
      ]
    },
    {
      "cell_type": "code",
      "metadata": {
        "id": "nCTUaJiNVw3R",
        "outputId": "a78878db-6471-49b9-90ce-04bdf4a2acc8"
      },
      "source": [
        "# 실수형\n",
        "\n",
        "b=3.14\n",
        "type(b)"
      ],
      "execution_count": null,
      "outputs": [
        {
          "data": {
            "text/plain": [
              "float"
            ]
          },
          "execution_count": 8,
          "metadata": {},
          "output_type": "execute_result"
        }
      ]
    },
    {
      "cell_type": "markdown",
      "metadata": {
        "id": "X3y7XV8BVw3R"
      },
      "source": [
        "숫자형의 기능"
      ]
    },
    {
      "cell_type": "code",
      "metadata": {
        "id": "1eGreJthVw3R"
      },
      "source": [
        "a, b= 5,2"
      ],
      "execution_count": null,
      "outputs": []
    },
    {
      "cell_type": "code",
      "metadata": {
        "id": "II4Vn_NhVw3S",
        "outputId": "5c15fe5f-90c6-4948-9cee-edc7a69e3eb2"
      },
      "source": [
        "# 더하기\n",
        "a+b"
      ],
      "execution_count": null,
      "outputs": [
        {
          "data": {
            "text/plain": [
              "7"
            ]
          },
          "execution_count": 10,
          "metadata": {},
          "output_type": "execute_result"
        }
      ]
    },
    {
      "cell_type": "code",
      "metadata": {
        "id": "2JDgNvHZVw3S",
        "outputId": "6719b62f-9aab-4898-b6a3-61ce6ebe00c4"
      },
      "source": [
        "# 빼기\n",
        "a-b"
      ],
      "execution_count": null,
      "outputs": [
        {
          "data": {
            "text/plain": [
              "3"
            ]
          },
          "execution_count": 11,
          "metadata": {},
          "output_type": "execute_result"
        }
      ]
    },
    {
      "cell_type": "code",
      "metadata": {
        "id": "HQYpM-cZVw3S",
        "outputId": "b5dc0eae-f53f-4f5f-858f-32364a21418c"
      },
      "source": [
        "# 곱하기\n",
        "a*b"
      ],
      "execution_count": null,
      "outputs": [
        {
          "data": {
            "text/plain": [
              "10"
            ]
          },
          "execution_count": 12,
          "metadata": {},
          "output_type": "execute_result"
        }
      ]
    },
    {
      "cell_type": "code",
      "metadata": {
        "id": "RHb5yLRHVw3T",
        "outputId": "2fb39300-b00d-48ff-94db-352bb3e2ea4c"
      },
      "source": [
        "# 나누기\n",
        "a/b"
      ],
      "execution_count": null,
      "outputs": [
        {
          "data": {
            "text/plain": [
              "2.5"
            ]
          },
          "execution_count": 13,
          "metadata": {},
          "output_type": "execute_result"
        }
      ]
    },
    {
      "cell_type": "code",
      "metadata": {
        "id": "8f0pkJ8qVw3T",
        "outputId": "22d134d2-a467-4584-ff73-2bdbdaf83157"
      },
      "source": [
        "# 몫 구하기\n",
        "a//b"
      ],
      "execution_count": null,
      "outputs": [
        {
          "data": {
            "text/plain": [
              "2"
            ]
          },
          "execution_count": 14,
          "metadata": {},
          "output_type": "execute_result"
        }
      ]
    },
    {
      "cell_type": "code",
      "metadata": {
        "id": "0-JklrqlVw3T",
        "outputId": "58af0cb8-e314-4700-8336-f096231a1b31"
      },
      "source": [
        "# 나머지 구하기\n",
        "a%b"
      ],
      "execution_count": null,
      "outputs": [
        {
          "data": {
            "text/plain": [
              "1"
            ]
          },
          "execution_count": 15,
          "metadata": {},
          "output_type": "execute_result"
        }
      ]
    },
    {
      "cell_type": "code",
      "metadata": {
        "id": "D1IPiTXZVw3T",
        "outputId": "9be37a33-410b-4d58-e3a8-50b960368c2c"
      },
      "source": [
        "# 제곱 구하기\n",
        "a**b"
      ],
      "execution_count": null,
      "outputs": [
        {
          "data": {
            "text/plain": [
              "25"
            ]
          },
          "execution_count": 16,
          "metadata": {},
          "output_type": "execute_result"
        }
      ]
    },
    {
      "cell_type": "code",
      "metadata": {
        "id": "j1fgcKoPVw3U",
        "outputId": "e580f332-dfc6-4455-b431-a09dae237d5e"
      },
      "source": [
        "# 최댓값 구하기\n",
        "max(a,b)"
      ],
      "execution_count": null,
      "outputs": [
        {
          "data": {
            "text/plain": [
              "5"
            ]
          },
          "execution_count": 17,
          "metadata": {},
          "output_type": "execute_result"
        }
      ]
    },
    {
      "cell_type": "code",
      "metadata": {
        "id": "Wy9BdD7pVw3U",
        "outputId": "eed76114-b4a6-4f71-de12-541de4c7d1aa"
      },
      "source": [
        "# 최솟값 구하기\n",
        "min(a,b)"
      ],
      "execution_count": null,
      "outputs": [
        {
          "data": {
            "text/plain": [
              "2"
            ]
          },
          "execution_count": 18,
          "metadata": {},
          "output_type": "execute_result"
        }
      ]
    },
    {
      "cell_type": "markdown",
      "metadata": {
        "id": "UdDLA0NgVw3U"
      },
      "source": [
        "#### 문자열(str)"
      ]
    },
    {
      "cell_type": "code",
      "metadata": {
        "id": "mfCFqH2NVw3U",
        "outputId": "18fb7e84-fbaa-44a0-b0ca-5788d6758059"
      },
      "source": [
        "c='python'\n",
        "type(c)"
      ],
      "execution_count": null,
      "outputs": [
        {
          "data": {
            "text/plain": [
              "str"
            ]
          },
          "execution_count": 19,
          "metadata": {},
          "output_type": "execute_result"
        }
      ]
    },
    {
      "cell_type": "markdown",
      "metadata": {
        "id": "Nv2cu8S9Vw3V"
      },
      "source": [
        "문자열의 기능"
      ]
    },
    {
      "cell_type": "code",
      "metadata": {
        "id": "LIOcTd1rVw3V"
      },
      "source": [
        "# 큰 따옴표, 작은 따옴표 무관\n",
        "c='파이썬 격파'\n",
        "d='시작'"
      ],
      "execution_count": null,
      "outputs": []
    },
    {
      "cell_type": "code",
      "metadata": {
        "id": "f-wBXYNWVw3V",
        "outputId": "4ae7dba0-beb3-414f-8ec4-6da494e5f2f5"
      },
      "source": [
        "# 문자 이어주기\n",
        "c+d"
      ],
      "execution_count": null,
      "outputs": [
        {
          "data": {
            "text/plain": [
              "'파이썬 격파시작'"
            ]
          },
          "execution_count": 21,
          "metadata": {},
          "output_type": "execute_result"
        }
      ]
    },
    {
      "cell_type": "code",
      "metadata": {
        "id": "1zEwSOS8Vw3V",
        "outputId": "b8f5d02e-7366-4c89-f76e-c58ba963f432"
      },
      "source": [
        "# 문자열 반복하기\n",
        "d*3"
      ],
      "execution_count": null,
      "outputs": [
        {
          "data": {
            "text/plain": [
              "'시작시작시작'"
            ]
          },
          "execution_count": 22,
          "metadata": {},
          "output_type": "execute_result"
        }
      ]
    },
    {
      "cell_type": "code",
      "metadata": {
        "id": "4rLiisLhVw3V",
        "outputId": "be644a6e-98bb-48e3-ff46-ef08fbf25431"
      },
      "source": [
        "# 문자 가져오기\n",
        "c[0]"
      ],
      "execution_count": null,
      "outputs": [
        {
          "data": {
            "text/plain": [
              "'파'"
            ]
          },
          "execution_count": 23,
          "metadata": {},
          "output_type": "execute_result"
        }
      ]
    },
    {
      "cell_type": "code",
      "metadata": {
        "id": "6SyGCM7nVw3V",
        "outputId": "4e167e57-400f-495c-f06d-9550bc16e14a"
      },
      "source": [
        "c[3]"
      ],
      "execution_count": null,
      "outputs": [
        {
          "data": {
            "text/plain": [
              "' '"
            ]
          },
          "execution_count": 24,
          "metadata": {},
          "output_type": "execute_result"
        }
      ]
    },
    {
      "cell_type": "code",
      "metadata": {
        "id": "r7u_CDMOVw3W",
        "outputId": "239df962-5f0f-4788-cdcf-3e733bf9a849"
      },
      "source": [
        "c[1:5]"
      ],
      "execution_count": null,
      "outputs": [
        {
          "data": {
            "text/plain": [
              "'이썬 격'"
            ]
          },
          "execution_count": 25,
          "metadata": {},
          "output_type": "execute_result"
        }
      ]
    },
    {
      "cell_type": "code",
      "metadata": {
        "id": "t5PMir8MVw3W",
        "outputId": "46e2c753-3cfb-4d9a-c298-98fcea293ed3"
      },
      "source": [
        "c[1:]"
      ],
      "execution_count": null,
      "outputs": [
        {
          "data": {
            "text/plain": [
              "'이썬 격파'"
            ]
          },
          "execution_count": 26,
          "metadata": {},
          "output_type": "execute_result"
        }
      ]
    },
    {
      "cell_type": "code",
      "metadata": {
        "id": "bC3-ySLlVw3W",
        "outputId": "de32a724-8117-433d-c399-d53451589771"
      },
      "source": [
        "c[-2]"
      ],
      "execution_count": null,
      "outputs": [
        {
          "data": {
            "text/plain": [
              "'격'"
            ]
          },
          "execution_count": 27,
          "metadata": {},
          "output_type": "execute_result"
        }
      ]
    },
    {
      "cell_type": "code",
      "metadata": {
        "id": "gpUfTQwmVw3W",
        "outputId": "edd57d35-40c3-467f-8dc5-c8060d4bdf1b"
      },
      "source": [
        "# 문자열의 길이 구하기\n",
        "len(c)"
      ],
      "execution_count": null,
      "outputs": [
        {
          "data": {
            "text/plain": [
              "6"
            ]
          },
          "execution_count": 28,
          "metadata": {},
          "output_type": "execute_result"
        }
      ]
    },
    {
      "cell_type": "code",
      "metadata": {
        "id": "DTE3VEmOVw3W",
        "outputId": "64e43842-6a21-4ba2-e04f-c16e2c256681"
      },
      "source": [
        "# 문자열에서 특정 글자 바꾸기\n",
        "c.replace('격파','정복')"
      ],
      "execution_count": null,
      "outputs": [
        {
          "data": {
            "text/plain": [
              "'파이썬 정복'"
            ]
          },
          "execution_count": 29,
          "metadata": {},
          "output_type": "execute_result"
        }
      ]
    },
    {
      "cell_type": "code",
      "metadata": {
        "id": "115asr6DVw3X",
        "outputId": "5d9984b0-8143-4191-88a9-2aa1f8a8e785"
      },
      "source": [
        "# 문자열을 리스트로 분리하기\n",
        "c.split()"
      ],
      "execution_count": null,
      "outputs": [
        {
          "data": {
            "text/plain": [
              "['파이썬', '격파']"
            ]
          },
          "execution_count": 30,
          "metadata": {},
          "output_type": "execute_result"
        }
      ]
    },
    {
      "cell_type": "code",
      "metadata": {
        "id": "n30qOZI2Vw3X",
        "outputId": "e2b90717-f510-4b55-ee37-42099cd4d5ed"
      },
      "source": [
        "e='파이썬-격파'\n",
        "e.split('-')"
      ],
      "execution_count": null,
      "outputs": [
        {
          "data": {
            "text/plain": [
              "['파이썬', '격파']"
            ]
          },
          "execution_count": 31,
          "metadata": {},
          "output_type": "execute_result"
        }
      ]
    },
    {
      "cell_type": "markdown",
      "metadata": {
        "id": "eEu7-QgbVw3X"
      },
      "source": [
        "#### 리스트(list)"
      ]
    },
    {
      "cell_type": "code",
      "metadata": {
        "id": "lE6nbsu9Vw3X",
        "outputId": "84f9a37b-4c3c-48da-baa3-989643a93c1a"
      },
      "source": [
        "d=[1,2,3,4,5]\n",
        "type(d)"
      ],
      "execution_count": null,
      "outputs": [
        {
          "data": {
            "text/plain": [
              "list"
            ]
          },
          "execution_count": 32,
          "metadata": {},
          "output_type": "execute_result"
        }
      ]
    },
    {
      "cell_type": "markdown",
      "metadata": {
        "id": "SNGU46-UVw3X"
      },
      "source": [
        "리스트의 기능"
      ]
    },
    {
      "cell_type": "code",
      "metadata": {
        "id": "1_vNYt5WVw3X",
        "outputId": "9cb56826-e654-431d-e0cc-ab4546abcd22"
      },
      "source": [
        "# 특정 위치의 요소 가져오기\n",
        "d[0]"
      ],
      "execution_count": null,
      "outputs": [
        {
          "data": {
            "text/plain": [
              "1"
            ]
          },
          "execution_count": 33,
          "metadata": {},
          "output_type": "execute_result"
        }
      ]
    },
    {
      "cell_type": "code",
      "metadata": {
        "id": "osmcJsEnVw3Y",
        "outputId": "8537a501-014b-4bf3-8980-921379d9d977"
      },
      "source": [
        "d[1]"
      ],
      "execution_count": null,
      "outputs": [
        {
          "data": {
            "text/plain": [
              "2"
            ]
          },
          "execution_count": 34,
          "metadata": {},
          "output_type": "execute_result"
        }
      ]
    },
    {
      "cell_type": "code",
      "metadata": {
        "id": "YwFgcSBuVw3Y",
        "outputId": "8d317ef6-4bc8-41bd-9bfd-841fa49e9408"
      },
      "source": [
        "d[1:4]"
      ],
      "execution_count": null,
      "outputs": [
        {
          "data": {
            "text/plain": [
              "[2, 3, 4]"
            ]
          },
          "execution_count": 35,
          "metadata": {},
          "output_type": "execute_result"
        }
      ]
    },
    {
      "cell_type": "code",
      "metadata": {
        "id": "lGvTh-fkVw3Y",
        "outputId": "222ed3a3-69fb-4693-eb4d-6776f11b09ae"
      },
      "source": [
        "d[-1]"
      ],
      "execution_count": null,
      "outputs": [
        {
          "data": {
            "text/plain": [
              "5"
            ]
          },
          "execution_count": 36,
          "metadata": {},
          "output_type": "execute_result"
        }
      ]
    },
    {
      "cell_type": "code",
      "metadata": {
        "id": "rzOPPazOVw3Y",
        "outputId": "17947f8c-ad6f-43ad-cc4a-e7c15342d3e4"
      },
      "source": [
        "# 특정 위치의 요소 수정하기\n",
        "d[0]=0\n",
        "d"
      ],
      "execution_count": null,
      "outputs": [
        {
          "data": {
            "text/plain": [
              "[0, 2, 3, 4, 5]"
            ]
          },
          "execution_count": 37,
          "metadata": {},
          "output_type": "execute_result"
        }
      ]
    },
    {
      "cell_type": "code",
      "metadata": {
        "id": "mYXc5qTPVw3Z",
        "outputId": "556c7e3b-3197-4d1b-ba53-e821c4dc638a"
      },
      "source": [
        "# 리스트 합치기\n",
        "d + [6,7,8]"
      ],
      "execution_count": null,
      "outputs": [
        {
          "data": {
            "text/plain": [
              "[0, 2, 3, 4, 5, 6, 7, 8]"
            ]
          },
          "execution_count": 38,
          "metadata": {},
          "output_type": "execute_result"
        }
      ]
    },
    {
      "cell_type": "code",
      "metadata": {
        "id": "2ERye4sDVw3Z",
        "outputId": "04562ec7-74cb-4c2a-9c20-6823399581bc"
      },
      "source": [
        "# 리스트에 있는 요소 개수 구하기\n",
        "len(d)"
      ],
      "execution_count": null,
      "outputs": [
        {
          "data": {
            "text/plain": [
              "5"
            ]
          },
          "execution_count": 39,
          "metadata": {},
          "output_type": "execute_result"
        }
      ]
    },
    {
      "cell_type": "code",
      "metadata": {
        "id": "znFoP9btVw3Z",
        "outputId": "cb506e3c-e756-4c3c-bd23-85ada6eadf4a"
      },
      "source": [
        "# 리스트에 있는 요소의 합 구하기\n",
        "sum(d)"
      ],
      "execution_count": null,
      "outputs": [
        {
          "data": {
            "text/plain": [
              "14"
            ]
          },
          "execution_count": 40,
          "metadata": {},
          "output_type": "execute_result"
        }
      ]
    },
    {
      "cell_type": "code",
      "metadata": {
        "id": "FJZvZxpdVw3Z",
        "outputId": "3135ba08-ff18-4682-e628-b773385f18c8"
      },
      "source": [
        "# 리스트의 요소를 문자열로 결합하기\n",
        "e=['수박','딸기','사과','포도']\n",
        "''.join(e)"
      ],
      "execution_count": null,
      "outputs": [
        {
          "data": {
            "text/plain": [
              "'수박딸기사과포도'"
            ]
          },
          "execution_count": 41,
          "metadata": {},
          "output_type": "execute_result"
        }
      ]
    },
    {
      "cell_type": "code",
      "metadata": {
        "id": "Ew4OprtVVw3Z",
        "outputId": "f757335a-9cf5-4a42-ac8d-f8236e13fab5"
      },
      "source": [
        "'-'.join(e)"
      ],
      "execution_count": null,
      "outputs": [
        {
          "data": {
            "text/plain": [
              "'수박-딸기-사과-포도'"
            ]
          },
          "execution_count": 42,
          "metadata": {},
          "output_type": "execute_result"
        }
      ]
    },
    {
      "cell_type": "code",
      "metadata": {
        "id": "kObtyescVw3a",
        "outputId": "559b2ec2-4801-44c9-b741-20f323e2b538"
      },
      "source": [
        "# 2차원리스트\n",
        "e=[[1, 2, 3, 4], [5, 6, 7, 8], [9, 10, 11, 12]]\n",
        "e"
      ],
      "execution_count": null,
      "outputs": [
        {
          "data": {
            "text/plain": [
              "[[1, 2, 3, 4], [5, 6, 7, 8], [9, 10, 11, 12]]"
            ]
          },
          "execution_count": 43,
          "metadata": {},
          "output_type": "execute_result"
        }
      ]
    },
    {
      "cell_type": "code",
      "metadata": {
        "id": "sF2PLqUaVw3a",
        "outputId": "80d8ecf7-3245-4dde-ed49-7317341bc6e5"
      },
      "source": [
        "type(e)"
      ],
      "execution_count": null,
      "outputs": [
        {
          "data": {
            "text/plain": [
              "list"
            ]
          },
          "execution_count": 44,
          "metadata": {},
          "output_type": "execute_result"
        }
      ]
    },
    {
      "cell_type": "code",
      "metadata": {
        "id": "Ye7978iFVw3a",
        "outputId": "0f9175c5-f2a0-4742-d4a9-ba27d1d19e9e"
      },
      "source": [
        "e[1]"
      ],
      "execution_count": null,
      "outputs": [
        {
          "data": {
            "text/plain": [
              "[5, 6, 7, 8]"
            ]
          },
          "execution_count": 45,
          "metadata": {},
          "output_type": "execute_result"
        }
      ]
    },
    {
      "cell_type": "code",
      "metadata": {
        "id": "X0_bXlzZVw3a",
        "outputId": "bead5464-3803-464f-f7f3-46638238ac1f"
      },
      "source": [
        "e[0][3]"
      ],
      "execution_count": null,
      "outputs": [
        {
          "data": {
            "text/plain": [
              "4"
            ]
          },
          "execution_count": 46,
          "metadata": {},
          "output_type": "execute_result"
        }
      ]
    },
    {
      "cell_type": "code",
      "metadata": {
        "id": "hU7KYZcwVw3b",
        "outputId": "3f7537da-620a-445f-dadc-6e071aacd5d0"
      },
      "source": [
        "e[1][2]"
      ],
      "execution_count": null,
      "outputs": [
        {
          "data": {
            "text/plain": [
              "7"
            ]
          },
          "execution_count": 47,
          "metadata": {},
          "output_type": "execute_result"
        }
      ]
    },
    {
      "cell_type": "markdown",
      "metadata": {
        "id": "AU9tTfhoVw3b"
      },
      "source": [
        "#### 딕셔너리(dict)"
      ]
    },
    {
      "cell_type": "code",
      "metadata": {
        "id": "TL4Y0icEVw3b",
        "outputId": "758342fe-fc8a-4ebb-80e0-35b6fa376aff"
      },
      "source": [
        "f={'가':1, '나':2, '다':[3,4,5]} \n",
        "type(f)"
      ],
      "execution_count": null,
      "outputs": [
        {
          "data": {
            "text/plain": [
              "dict"
            ]
          },
          "execution_count": 48,
          "metadata": {},
          "output_type": "execute_result"
        }
      ]
    },
    {
      "cell_type": "markdown",
      "metadata": {
        "id": "5IlfW1OxVw3b"
      },
      "source": [
        "딕셔너리 기능"
      ]
    },
    {
      "cell_type": "code",
      "metadata": {
        "id": "yWHE32CdVw3b",
        "outputId": "c77b3a8d-fd0e-4f1b-f35f-ffc343475d3d"
      },
      "source": [
        "# 특정 요소 가져오기\n",
        "f['가']"
      ],
      "execution_count": null,
      "outputs": [
        {
          "data": {
            "text/plain": [
              "1"
            ]
          },
          "execution_count": 49,
          "metadata": {},
          "output_type": "execute_result"
        }
      ]
    },
    {
      "cell_type": "code",
      "metadata": {
        "id": "mFWLgzyBVw3b",
        "outputId": "c0a128a7-82f0-4d5e-a255-1e0d7b118ece"
      },
      "source": [
        "f['다']"
      ],
      "execution_count": null,
      "outputs": [
        {
          "data": {
            "text/plain": [
              "[3, 4, 5]"
            ]
          },
          "execution_count": 50,
          "metadata": {},
          "output_type": "execute_result"
        }
      ]
    },
    {
      "cell_type": "code",
      "metadata": {
        "id": "6oRp6cqiVw3b",
        "outputId": "c7387a14-d99b-4478-f049-df5838720b5d"
      },
      "source": [
        "# 특정 요소 수정하기\n",
        "f[\"나\"]=6\n",
        "f"
      ],
      "execution_count": null,
      "outputs": [
        {
          "data": {
            "text/plain": [
              "{'가': 1, '나': 6, '다': [3, 4, 5]}"
            ]
          },
          "execution_count": 51,
          "metadata": {},
          "output_type": "execute_result"
        }
      ]
    },
    {
      "cell_type": "code",
      "metadata": {
        "id": "QEhkPj0XVw3c",
        "outputId": "755d73d2-f9e8-4e78-c5a7-e01d18a33bf6"
      },
      "source": [
        "# 요소 추가하기\n",
        "f[\"라\"]=7\n",
        "f"
      ],
      "execution_count": null,
      "outputs": [
        {
          "data": {
            "text/plain": [
              "{'가': 1, '나': 6, '다': [3, 4, 5], '라': 7}"
            ]
          },
          "execution_count": 52,
          "metadata": {},
          "output_type": "execute_result"
        }
      ]
    },
    {
      "cell_type": "markdown",
      "metadata": {
        "id": "hnvabAseVw3c"
      },
      "source": [
        "#### 불리언(bool)"
      ]
    },
    {
      "cell_type": "code",
      "metadata": {
        "id": "mGGA798xVw3c",
        "outputId": "347a42b8-f457-4b8e-878b-7bcd621c924a"
      },
      "source": [
        "h=True\n",
        "type(h)"
      ],
      "execution_count": null,
      "outputs": [
        {
          "data": {
            "text/plain": [
              "bool"
            ]
          },
          "execution_count": 53,
          "metadata": {},
          "output_type": "execute_result"
        }
      ]
    },
    {
      "cell_type": "markdown",
      "metadata": {
        "id": "qK64csg-Vw3c"
      },
      "source": [
        "--------------------------------------------------"
      ]
    },
    {
      "cell_type": "markdown",
      "metadata": {
        "id": "tj3hU8M0Vw3c"
      },
      "source": [
        "## 조건"
      ]
    },
    {
      "cell_type": "markdown",
      "metadata": {
        "id": "r3OZRWepVw3c"
      },
      "source": [
        "#### if 조건"
      ]
    },
    {
      "cell_type": "code",
      "metadata": {
        "id": "OEU2VHLnVw3c",
        "outputId": "4b77de40-cecd-47c3-c9c7-bfe831b6f0b1"
      },
      "source": [
        "a=100\n",
        "b=78\n",
        "\n",
        "if a < b :\n",
        "    print('a가 b보다 작다')\n",
        "\n",
        "if a == b :\n",
        "    print('a는 b와 같다')\n",
        "\n",
        "if a > b :\n",
        "    print('a가 b보다 크다')\n",
        "    \n",
        "print('조건배우기')"
      ],
      "execution_count": null,
      "outputs": [
        {
          "name": "stdout",
          "output_type": "stream",
          "text": [
            "a가 b보다 크다\n",
            "조건배우기\n"
          ]
        }
      ]
    },
    {
      "cell_type": "markdown",
      "metadata": {
        "id": "flAbyiIdVw3d"
      },
      "source": [
        "#### ★ 들여쓰기"
      ]
    },
    {
      "cell_type": "markdown",
      "metadata": {
        "id": "Zr2hh5x8Vw3d"
      },
      "source": [
        "실행코드 부분을 구분해 주는 역할을 합니다."
      ]
    },
    {
      "cell_type": "markdown",
      "metadata": {
        "id": "HiQrNkCTVw3d"
      },
      "source": [
        "1) 가장 바깥쪽의 실행 코드는 들여쓰기가 없이 시작해야 합니다.\n",
        "\n",
        "2) 콜론(:) 다음 라인부터 시작하는 실행 코드는 들여쓰기 간격이 모두 동일해야 합니다.\n",
        "\n",
        "3) 조건문 뿐만 아니라 for, while 같은 각종 제어문, 함수 및 클래스에서도 들여쓰기를 해야 합니다."
      ]
    },
    {
      "cell_type": "markdown",
      "metadata": {
        "id": "0tgVC8TrVw3d"
      },
      "source": [
        "#### else - 바로 위의 if 조건식이 거짓이면"
      ]
    },
    {
      "cell_type": "code",
      "metadata": {
        "id": "0CGX_SlnVw3d",
        "outputId": "475868b8-24dc-4cca-afd0-8bb7e2d83d84"
      },
      "source": [
        "a=100\n",
        "b=78\n",
        "\n",
        "if a < b :\n",
        "    print('a가 b보다 작다')\n",
        "\n",
        "else :\n",
        "    print('a는 b보다 크거나 같다')"
      ],
      "execution_count": null,
      "outputs": [
        {
          "name": "stdout",
          "output_type": "stream",
          "text": [
            "a는 b보다 크거나 같다\n"
          ]
        }
      ]
    },
    {
      "cell_type": "markdown",
      "metadata": {
        "id": "fFECsFEPVw3d"
      },
      "source": [
        "#### 비교연산자"
      ]
    },
    {
      "cell_type": "code",
      "metadata": {
        "id": "fiH1VcZTVw3e"
      },
      "source": [
        "x=6\n",
        "y=4"
      ],
      "execution_count": null,
      "outputs": []
    },
    {
      "cell_type": "code",
      "metadata": {
        "id": "nOlWqr_EVw3e",
        "outputId": "44ec0adb-94b7-4467-cd45-cb1dd63a05a5"
      },
      "source": [
        "# x가 y보다 작다\n",
        "x<y"
      ],
      "execution_count": null,
      "outputs": [
        {
          "data": {
            "text/plain": [
              "False"
            ]
          },
          "execution_count": 57,
          "metadata": {},
          "output_type": "execute_result"
        }
      ]
    },
    {
      "cell_type": "code",
      "metadata": {
        "id": "Hwr8NA8wVw3e",
        "outputId": "eb16949e-3850-4840-d875-c1cd3aa571cf"
      },
      "source": [
        "# x가 y보다 크다\n",
        "x>y"
      ],
      "execution_count": null,
      "outputs": [
        {
          "data": {
            "text/plain": [
              "True"
            ]
          },
          "execution_count": 58,
          "metadata": {},
          "output_type": "execute_result"
        }
      ]
    },
    {
      "cell_type": "code",
      "metadata": {
        "id": "6uNW_s1zVw3e",
        "outputId": "5921d851-840d-4f28-9b55-4c96591d831f"
      },
      "source": [
        "# x가 y와 같다\n",
        "x==y"
      ],
      "execution_count": null,
      "outputs": [
        {
          "data": {
            "text/plain": [
              "False"
            ]
          },
          "execution_count": 59,
          "metadata": {},
          "output_type": "execute_result"
        }
      ]
    },
    {
      "cell_type": "code",
      "metadata": {
        "id": "ke1ibK16Vw3e",
        "outputId": "21e1fccb-1199-456a-fb42-1070130f5b93"
      },
      "source": [
        "# x와 y가 다르다\n",
        "x!=y"
      ],
      "execution_count": null,
      "outputs": [
        {
          "data": {
            "text/plain": [
              "True"
            ]
          },
          "execution_count": 60,
          "metadata": {},
          "output_type": "execute_result"
        }
      ]
    },
    {
      "cell_type": "code",
      "metadata": {
        "id": "UhTDSY2uVw3e",
        "outputId": "a5cbafe8-5b35-4577-fe9a-2cc184d7c84a"
      },
      "source": [
        "# x가 y보다 크거나 같다\n",
        "x>=y"
      ],
      "execution_count": null,
      "outputs": [
        {
          "data": {
            "text/plain": [
              "True"
            ]
          },
          "execution_count": 61,
          "metadata": {},
          "output_type": "execute_result"
        }
      ]
    },
    {
      "cell_type": "code",
      "metadata": {
        "id": "nzCYw-vEVw3f",
        "outputId": "37ff88c5-286b-4447-aa0b-3f9c2530f842"
      },
      "source": [
        "# x가 y보다 작거나 같다\n",
        "x<=y"
      ],
      "execution_count": null,
      "outputs": [
        {
          "data": {
            "text/plain": [
              "False"
            ]
          },
          "execution_count": 62,
          "metadata": {},
          "output_type": "execute_result"
        }
      ]
    },
    {
      "cell_type": "markdown",
      "metadata": {
        "id": "KDDBv05qVw3f"
      },
      "source": [
        "#### 논리연산자"
      ]
    },
    {
      "cell_type": "code",
      "metadata": {
        "id": "k9QvLPbBVw3f"
      },
      "source": [
        "x=10"
      ],
      "execution_count": null,
      "outputs": []
    },
    {
      "cell_type": "code",
      "metadata": {
        "id": "gaTPbjCdVw3f",
        "outputId": "45938852-dec1-4dfb-f874-90ec27eb4c3f"
      },
      "source": [
        "# A and B\n",
        "# A 와 B 모두가 참이어야 참\n",
        "\n",
        "if (x < 8) and (x > 2) :\n",
        "    print('가나다')\n",
        "else:\n",
        "    print('파타하')"
      ],
      "execution_count": null,
      "outputs": [
        {
          "name": "stdout",
          "output_type": "stream",
          "text": [
            "파타하\n"
          ]
        }
      ]
    },
    {
      "cell_type": "code",
      "metadata": {
        "id": "ZKu32eoWVw3f",
        "outputId": "eaee41fe-1ed6-44ef-e205-ed7ec5720b83"
      },
      "source": [
        "# A or B\n",
        "# A 와 B 둘 중에 하나만 참이면 참\n",
        "\n",
        "if (x < 8) or (x > 2) :\n",
        "    print('가나다')\n",
        "else:\n",
        "    print('파타하')"
      ],
      "execution_count": null,
      "outputs": [
        {
          "name": "stdout",
          "output_type": "stream",
          "text": [
            "가나다\n"
          ]
        }
      ]
    },
    {
      "cell_type": "code",
      "metadata": {
        "id": "melIInZFVw3f",
        "outputId": "e40ee40e-1951-4711-d23a-5b34f470f8c9"
      },
      "source": [
        "# not A\n",
        "# A가 거짓이면 참\n",
        "\n",
        "if not (x < 8) :\n",
        "    print ('라마바')"
      ],
      "execution_count": null,
      "outputs": [
        {
          "name": "stdout",
          "output_type": "stream",
          "text": [
            "라마바\n"
          ]
        }
      ]
    },
    {
      "cell_type": "markdown",
      "metadata": {
        "id": "emdylekoVw3g"
      },
      "source": [
        "#### if 와 in"
      ]
    },
    {
      "cell_type": "code",
      "metadata": {
        "id": "mY2MFE7TVw3g",
        "outputId": "bd04353b-9fc2-41c8-8eb2-ac4f7e6213b5"
      },
      "source": [
        "# A in ○○○\n",
        "# ○○○안에 A가 있는지 여부\n",
        "\n",
        "# 문자열\n",
        "a='abcd'\n",
        "\n",
        "if 'b' in a:\n",
        "\n",
        "    print('kkk')"
      ],
      "execution_count": null,
      "outputs": [
        {
          "name": "stdout",
          "output_type": "stream",
          "text": [
            "kkk\n"
          ]
        }
      ]
    },
    {
      "cell_type": "code",
      "metadata": {
        "id": "PDmm0kA8Vw3g",
        "outputId": "079dab70-a73a-4f75-d132-2c5f807e6c67"
      },
      "source": [
        "# 리스트 \n",
        "\n",
        "a = ['가', '나', '다', '라']\n",
        "\n",
        "if '가' in a:\n",
        "    print('abc')\n",
        "\n",
        "if '하' in a:\n",
        "    print('xyz')"
      ],
      "execution_count": null,
      "outputs": [
        {
          "name": "stdout",
          "output_type": "stream",
          "text": [
            "abc\n"
          ]
        }
      ]
    },
    {
      "cell_type": "markdown",
      "metadata": {
        "id": "Cbk7pVQOVw3g"
      },
      "source": [
        "#### elif - if와 else의 합체"
      ]
    },
    {
      "cell_type": "code",
      "metadata": {
        "scrolled": true,
        "id": "-CEicVQ9Vw3g",
        "outputId": "01933164-2caf-4623-b1b6-6851c507924a"
      },
      "source": [
        "s=85\n",
        "\n",
        "if s>=90:\n",
        "    print('1등급')\n",
        "if s>=80:\n",
        "    print('2등급')\n",
        "if s>=70:\n",
        "    print('3등급')\n",
        "if s>=60:\n",
        "    print('4등급')\n",
        "else:\n",
        "    print('5등급')"
      ],
      "execution_count": null,
      "outputs": [
        {
          "name": "stdout",
          "output_type": "stream",
          "text": [
            "2등급\n",
            "3등급\n",
            "4등급\n"
          ]
        }
      ]
    },
    {
      "cell_type": "code",
      "metadata": {
        "id": "MhRleCf2Vw3h",
        "outputId": "b285e2be-5789-430a-d7c9-e4ac43913e09"
      },
      "source": [
        "s=85\n",
        "\n",
        "if s>=90:\n",
        "    print('1등급')\n",
        "elif s>=80:\n",
        "    print('2등급')\n",
        "elif s>=70:\n",
        "    print('3등급')\n",
        "elif s>=60:\n",
        "    print('4등급')\n",
        "else:\n",
        "    print('5등급')"
      ],
      "execution_count": null,
      "outputs": [
        {
          "name": "stdout",
          "output_type": "stream",
          "text": [
            "2등급\n"
          ]
        }
      ]
    },
    {
      "cell_type": "markdown",
      "metadata": {
        "id": "hso3-Aw-Vw3h"
      },
      "source": [
        "--------------------------------------------------------"
      ]
    },
    {
      "cell_type": "markdown",
      "metadata": {
        "id": "eFfCBTaAVw3h"
      },
      "source": [
        "### 반복"
      ]
    },
    {
      "cell_type": "markdown",
      "metadata": {
        "id": "CPBuk640Vw3h"
      },
      "source": [
        "#### for in range"
      ]
    },
    {
      "cell_type": "markdown",
      "metadata": {
        "id": "1wX30qGbVw3h"
      },
      "source": [
        "range(시작하는 값, 끝나는 값 다음 값, 변하는 값)\n",
        "\n",
        "- 변하는 값이 +1일 경우 생략 가능\n",
        "\n",
        "- 시작하는 값이 0일 경우 생략 가능"
      ]
    },
    {
      "cell_type": "code",
      "metadata": {
        "id": "Rf6Xq-C1Vw3h",
        "outputId": "afdbeba4-a6e9-4b4d-c32a-c5e2aa117331"
      },
      "source": [
        "for i in range (4) :\n",
        "    print(i)"
      ],
      "execution_count": null,
      "outputs": [
        {
          "name": "stdout",
          "output_type": "stream",
          "text": [
            "0\n",
            "1\n",
            "2\n",
            "3\n"
          ]
        }
      ]
    },
    {
      "cell_type": "markdown",
      "metadata": {
        "id": "_k8MYaAvVw3i"
      },
      "source": [
        "#### for in 리스트"
      ]
    },
    {
      "cell_type": "code",
      "metadata": {
        "id": "TmNRbyeEVw3i",
        "outputId": "41798fd9-78be-4944-f1e4-ead30d154a97"
      },
      "source": [
        "a = ['가', '나', '다', '라']\n",
        "\n",
        "for i in a :\n",
        "    print(i)"
      ],
      "execution_count": null,
      "outputs": [
        {
          "name": "stdout",
          "output_type": "stream",
          "text": [
            "가\n",
            "나\n",
            "다\n",
            "라\n"
          ]
        }
      ]
    },
    {
      "cell_type": "code",
      "metadata": {
        "id": "wPYCE9seVw3i",
        "outputId": "88e4f6f2-244f-4cc2-a6b6-cb58b1eeda6e"
      },
      "source": [
        "n = [1, 2, 3, 4, 5, 6, 7, 8]\n",
        "\n",
        "for j in n :\n",
        "    if j%2==0:\n",
        "        print(j)"
      ],
      "execution_count": null,
      "outputs": [
        {
          "name": "stdout",
          "output_type": "stream",
          "text": [
            "2\n",
            "4\n",
            "6\n",
            "8\n"
          ]
        }
      ]
    },
    {
      "cell_type": "markdown",
      "metadata": {
        "id": "nVJRNPDkVw3i"
      },
      "source": [
        "---------------------------------------------------------------"
      ]
    },
    {
      "cell_type": "markdown",
      "metadata": {
        "id": "BTI-As4ZVw3i"
      },
      "source": [
        "## 함수"
      ]
    },
    {
      "cell_type": "markdown",
      "metadata": {
        "id": "R2G8P3nxVw3i"
      },
      "source": [
        "#### 함수의 구조와 용어 살펴보기 "
      ]
    },
    {
      "cell_type": "code",
      "metadata": {
        "id": "fLGl3UIoVw3j",
        "outputId": "46ab9d77-6009-4095-ccbe-e2854738893e"
      },
      "source": [
        "print('지금 도착하신 정류장은 역삼역입니다.')\n",
        "print('내리실 문은 왼쪽입니다.')\n",
        "print('지금 도착하신 정류장은 강남역입니다.')\n",
        "print('내리실 문은 왼쪽입니다.')\n",
        "print('지금 도착하신 정류장은 교대역입니다.')\n",
        "print('내리실 문은 왼쪽입니다.')"
      ],
      "execution_count": null,
      "outputs": [
        {
          "name": "stdout",
          "output_type": "stream",
          "text": [
            "지금 도착하신 정류장은 역삼역입니다.\n",
            "내리실 문은 왼쪽입니다.\n",
            "지금 도착하신 정류장은 강남역입니다.\n",
            "내리실 문은 왼쪽입니다.\n",
            "지금 도착하신 정류장은 교대역입니다.\n",
            "내리실 문은 왼쪽입니다.\n"
          ]
        }
      ]
    },
    {
      "cell_type": "code",
      "metadata": {
        "id": "u72kU3QaVw3j",
        "outputId": "deaaec16-f774-4887-bd6e-50e5006272fd"
      },
      "source": [
        "# def subway() : 함수(function) subway 정의\n",
        "\n",
        "# subway() : 함수 호출\n",
        "\n",
        "def subway( ):\n",
        "    print('내리실 문은 왼쪽입니다.')\n",
        "print('지금 도착하신 정류장은 역삼역입니다.')\n",
        "subway( )\n",
        "print('지금 도착하신 정류장은 강남역입니다.')\n",
        "subway( )\n",
        "print('지금 도착하신 정류장은 교대역입니다.')\n",
        "subway( )"
      ],
      "execution_count": null,
      "outputs": [
        {
          "name": "stdout",
          "output_type": "stream",
          "text": [
            "지금 도착하신 정류장은 역삼역입니다.\n",
            "내리실 문은 왼쪽입니다.\n",
            "지금 도착하신 정류장은 강남역입니다.\n",
            "내리실 문은 왼쪽입니다.\n",
            "지금 도착하신 정류장은 교대역입니다.\n",
            "내리실 문은 왼쪽입니다.\n"
          ]
        }
      ]
    },
    {
      "cell_type": "code",
      "metadata": {
        "scrolled": true,
        "id": "hwKvBfUEVw3j",
        "outputId": "7a094c67-672b-48db-b3db-0d55353b758f"
      },
      "source": [
        "# a : 매개변수 (parameter)\n",
        "\n",
        "# '역삼역' : 인수\n",
        "    \n",
        "def subway(a):\n",
        "    print('지금 도착하신 정류장은' + a + ' 입니다.')\n",
        "    print('내리실 문은 왼쪽입니다.')\n",
        "subway('역삼역')\n",
        "subway('강남역')\n",
        "subway('교대역')"
      ],
      "execution_count": null,
      "outputs": [
        {
          "name": "stdout",
          "output_type": "stream",
          "text": [
            "지금 도착하신 정류장은역삼역 입니다.\n",
            "내리실 문은 왼쪽입니다.\n",
            "지금 도착하신 정류장은강남역 입니다.\n",
            "내리실 문은 왼쪽입니다.\n",
            "지금 도착하신 정류장은교대역 입니다.\n",
            "내리실 문은 왼쪽입니다.\n"
          ]
        }
      ]
    },
    {
      "cell_type": "code",
      "metadata": {
        "id": "8NuXEJsrVw3j",
        "outputId": "eb40b644-ee97-4cc9-caa7-33287b2b1bf6"
      },
      "source": [
        "# a, b : 매개변수 (parameter)\n",
        "\n",
        "# '역삼역' : 인수\n",
        "    \n",
        "def subway(a, b):\n",
        "    print('지금 도착하신 정류장은' + a + ' 입니다.')\n",
        "    print('내리실 문은 ' + b + '입니다.')\n",
        "subway('역삼역', '왼쪽')\n",
        "subway('강남역', '오른쪽')\n",
        "subway('교대역', '왼쪽')"
      ],
      "execution_count": null,
      "outputs": [
        {
          "name": "stdout",
          "output_type": "stream",
          "text": [
            "지금 도착하신 정류장은역삼역 입니다.\n",
            "내리실 문은 왼쪽입니다.\n",
            "지금 도착하신 정류장은강남역 입니다.\n",
            "내리실 문은 오른쪽입니다.\n",
            "지금 도착하신 정류장은교대역 입니다.\n",
            "내리실 문은 왼쪽입니다.\n"
          ]
        }
      ]
    },
    {
      "cell_type": "code",
      "metadata": {
        "id": "iYm1euQGVw3k",
        "outputId": "f48b82fe-483d-48de-b1a3-bd67fa5c2574"
      },
      "source": [
        "def total(a, b) :\n",
        "    c=a+b\n",
        "    print(c)\n",
        "\n",
        "total(1, 2)\n",
        "total(4.2, 3.9)"
      ],
      "execution_count": null,
      "outputs": [
        {
          "name": "stdout",
          "output_type": "stream",
          "text": [
            "3\n",
            "8.1\n"
          ]
        }
      ]
    },
    {
      "cell_type": "code",
      "metadata": {
        "id": "1jnfY4YzVw3k",
        "outputId": "4801be81-897b-4a65-f8b8-7b56c89c960f"
      },
      "source": [
        "# return c : 반환값\n",
        "\n",
        "def total(a, b) :\n",
        "    c=a+b\n",
        "    return c\n",
        "\n",
        "fir = total(1, 2)\n",
        "sec = total(4.2, 3.9)\n",
        "print(fir)\n",
        "print(sec)"
      ],
      "execution_count": null,
      "outputs": [
        {
          "name": "stdout",
          "output_type": "stream",
          "text": [
            "3\n",
            "8.1\n"
          ]
        }
      ]
    },
    {
      "cell_type": "markdown",
      "metadata": {
        "id": "FN8Jjz4yVw3k"
      },
      "source": [
        "#### 함수의 종류"
      ]
    },
    {
      "cell_type": "markdown",
      "metadata": {
        "id": "1MB0glXYVw3k"
      },
      "source": [
        "- 내장 함수 : 파이썬에 내장된 함수 (print, input, int, abs, type 등등)\n",
        "- 외장함수 : 파이썬 외부 모듈에 있는 함수 (randint, sleep, localtime 등등)\n",
        "- 사용자 정의 함수 : 사용자가 직접 만든 함수 (subway, total)"
      ]
    },
    {
      "cell_type": "markdown",
      "metadata": {
        "id": "jWPIE4KRVw3k"
      },
      "source": [
        "◎ lambda 표현식 : 함수를 간단하게 한 줄로 만든 함수"
      ]
    },
    {
      "cell_type": "code",
      "metadata": {
        "id": "XtbFNij9Vw3l",
        "outputId": "295d5f5c-81d9-41ec-c6c5-ac06eb509590"
      },
      "source": [
        "plus = lambda a, b : a+b\n",
        "a=plus(1,2)\n",
        "a"
      ],
      "execution_count": null,
      "outputs": [
        {
          "data": {
            "text/plain": [
              "3"
            ]
          },
          "execution_count": 80,
          "metadata": {},
          "output_type": "execute_result"
        }
      ]
    },
    {
      "cell_type": "markdown",
      "metadata": {
        "id": "9Ru_nb_WVw3l"
      },
      "source": [
        "## 모듈"
      ]
    },
    {
      "cell_type": "markdown",
      "metadata": {
        "id": "XsO8xgcMVw3l"
      },
      "source": [
        "여러 기능들을 묶어서 만든 파이썬 파일\n",
        "\n",
        "'라이브러리'와 혼용해서 사용"
      ]
    },
    {
      "cell_type": "code",
      "metadata": {
        "id": "yZII1BW_Vw3l",
        "outputId": "02c92043-c842-4022-9996-32d7585db71b"
      },
      "source": [
        "import random\n",
        "\n",
        "random.randint(1, 6)"
      ],
      "execution_count": null,
      "outputs": [
        {
          "data": {
            "text/plain": [
              "2"
            ]
          },
          "execution_count": 81,
          "metadata": {},
          "output_type": "execute_result"
        }
      ]
    },
    {
      "cell_type": "code",
      "metadata": {
        "id": "GUZ8-w3GVw3l",
        "outputId": "004cbca5-d4fc-474d-c3a2-45313555785d"
      },
      "source": [
        "import random as r\n",
        "\n",
        "r.randint(1, 6)"
      ],
      "execution_count": null,
      "outputs": [
        {
          "data": {
            "text/plain": [
              "3"
            ]
          },
          "execution_count": 82,
          "metadata": {},
          "output_type": "execute_result"
        }
      ]
    },
    {
      "cell_type": "markdown",
      "metadata": {
        "id": "qsXlBtJ_Vw3l"
      },
      "source": [
        "#### 모듈의 종류"
      ]
    },
    {
      "cell_type": "markdown",
      "metadata": {
        "id": "a-YXGAQjVw3m"
      },
      "source": [
        "- 표준 모듈 : 파이썬에서 제공하는 모듈\n",
        "  ex) random, time, math 등\n",
        "\n",
        "- 사용자 정의 모듈 : 사용자가 직접 작성한 모듈\n",
        "\n",
        "- 서드 파티(3rd Party) 모듈 : 다른 사용자나 업체 및 단체에서 제공하는 모듈\n",
        "  ex) pygame, pandas, tensorflow"
      ]
    },
    {
      "cell_type": "code",
      "metadata": {
        "id": "MRjh6E56Vw3m"
      },
      "source": [],
      "execution_count": null,
      "outputs": []
    }
  ]
}