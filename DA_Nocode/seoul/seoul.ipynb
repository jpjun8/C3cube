{
 "cells": [
  {
   "cell_type": "code",
   "execution_count": 1,
   "metadata": {},
   "outputs": [],
   "source": [
    "import warnings\n",
    "import pandas as pd\n",
    "import numpy as np\n",
    "import matplotlib.pyplot as plt\n",
    "import seaborn as sns\n",
    "from sklearn import linear_model\n",
    "from scipy import stats\n",
    "from matplotlib import cm\n",
    "\n",
    "plt.rc('font', family='Malgun Gothic')\n",
    "plt.style.use('ggplot')\n",
    "plt.rcParams['axes.facecolor'] = '#f5f5f5'\n",
    "warnings.filterwarnings('ignore')\n",
    "\n",
    "colors = ['#e6194b', '#3cb44b', '#ffe119', '#4363d8', '#f58231', '#911eb4', '#46f0f0', '#f032e6', '#bcf60c', '#fabebe', '#008080', '#e6beff', '#9a6324', '#fffac8', '#800000', '#aaffc3', '#808000', '#ffd8b1', '#000075', '#808080', '#ffffff', '#000000']\n"
   ]
  },
  {
   "cell_type": "code",
   "execution_count": 11,
   "metadata": {},
   "outputs": [
    {
     "name": "stdout",
     "output_type": "stream",
     "text": [
      "          날짜 요일  공휴일     날씨    유료합계    무료합계      총계\n",
      "0 2016-01-01  금    1  구름 조금  3359.0  1023.0  4382.0\n",
      "1 2016-01-02  토    1  구름 많음  5173.0  2092.0  7265.0\n",
      "2 2016-01-03  일    1  구름 많음  3008.0  1549.0  4557.0\n",
      "3 2016-01-04  월    0  구름 많음   890.0   800.0  1690.0\n",
      "4 2016-01-05  화    0  구름 많음   416.0   840.0  1256.0\n",
      "<class 'pandas.core.frame.DataFrame'>\n",
      "RangeIndex: 1086 entries, 0 to 1085\n",
      "Data columns (total 7 columns):\n",
      " #   Column  Non-Null Count  Dtype         \n",
      "---  ------  --------------  -----         \n",
      " 0   날짜      1086 non-null   datetime64[ns]\n",
      " 1   요일      1086 non-null   object        \n",
      " 2   공휴일     1086 non-null   int64         \n",
      " 3   날씨      946 non-null    object        \n",
      " 4   유료합계    1086 non-null   float64       \n",
      " 5   무료합계    1086 non-null   float64       \n",
      " 6   총계      1086 non-null   float64       \n",
      "dtypes: datetime64[ns](1), float64(3), int64(1), object(2)\n",
      "memory usage: 59.5+ KB\n"
     ]
    }
   ],
   "source": [
    "df = pd.read_csv(\"./seoul.csv\")\n",
    "\n",
    "df['날짜'] = pd.to_datetime(df['날짜'])\n",
    "\n",
    "df['유료합계'] = df['유료합계'].str.replace(',','')\n",
    "df['유료합계'] = df['유료합계'].astype(float)\n",
    "\n",
    "df['무료합계'] = df['무료합계'].str.replace(',','')\n",
    "df['무료합계'] = df['무료합계'].astype(float)\n",
    "\n",
    "df['총계'] = df['총계'].str.replace(',','')\n",
    "df['총계'] = df['총계'].astype(float)\n",
    "\n",
    "print(df.head())\n",
    "df.info()"
   ]
  }
 ],
 "metadata": {
  "kernelspec": {
   "display_name": "Python 3",
   "language": "python",
   "name": "python3"
  },
  "language_info": {
   "codemirror_mode": {
    "name": "ipython",
    "version": 3
   },
   "file_extension": ".py",
   "mimetype": "text/x-python",
   "name": "python",
   "nbconvert_exporter": "python",
   "pygments_lexer": "ipython3",
   "version": "3.10.8"
  },
  "orig_nbformat": 4,
  "vscode": {
   "interpreter": {
    "hash": "fb4569285eef3a3450cb62085a5b1e0da4bce0af555edc33dcf29baf3acc1368"
   }
  }
 },
 "nbformat": 4,
 "nbformat_minor": 2
}
