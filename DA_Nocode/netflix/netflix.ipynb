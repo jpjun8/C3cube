{
 "cells": [
  {
   "cell_type": "code",
   "execution_count": null,
   "metadata": {},
   "outputs": [],
   "source": [
    "import warnings\n",
    "import pandas as pd\n",
    "import numpy as np\n",
    "import matplotlib.pyplot as plt\n",
    "import seaborn as sns\n",
    "from sklearn import linear_model\n",
    "from scipy import stats\n",
    "from matplotlib import cm\n",
    "from collections import Counter\n",
    "\n",
    "plt.rc('font', family='Malgun Gothic')\n",
    "plt.style.use('ggplot')\n",
    "plt.rcParams['axes.facecolor'] = '#f5f5f5'\n",
    "warnings.filterwarnings('ignore')\n",
    "\n",
    "colors = ['#e6194b', '#3cb44b', '#ffe119', '#4363d8', '#f58231', '#911eb4', '#46f0f0', '#f032e6', '#bcf60c', '#fabebe', '#008080', '#e6beff', '#9a6324', '#fffac8', '#800000', '#aaffc3', '#808000', '#ffd8b1', '#000075', '#808080', '#ffffff', '#000000']\n"
   ]
  },
  {
   "cell_type": "code",
   "execution_count": null,
   "metadata": {},
   "outputs": [],
   "source": [
    "df = pd.read_csv(\"./netflix_titles.csv\")\n",
    "df.drop(columns=\"description\", inplace=True)\n",
    "country_data = df['country'].dropna()\n",
    "country_counting = pd.Series(dict(Counter(','.join(country_data).replace(' ,',',').replace(', ',',').split(',')))).sort_values(ascending=False)\n",
    "countries = country_counting.index.tolist()\n",
    "trans_countries = ['미국', '인도', '영국', '캐나다', '프랑스', '일본', '스페인', '대한민국', '독일', '멕시코', '중국', '이집트', '홍콩', '나이지리아', '튀르키예', '인도네시아', '호주', '필리핀', '벨기에', '대한민국', '이탈리아', '아르헨티나', '브라질', '태국', '남아공', '네덜란드', '아랍에미리트', '폴란드', '아일랜드', '덴마크', '대만', '스웨덴', '칠레', '뉴질랜드', '레바논', '파키스탄', '말레이시아', '노르웨이', '싱가포르', '콜롬비아', '스위스', '이스라엘', '체코', '루마니아', '러시아', '불가리아', '헝가리', '우루과이', '사우디아라비아', '룩셈부르크', '오스트리아', '카타르', '아이슬란드', '페루', '세르비아', '그리스', '베트남', '포르투갈', '요르단', '캄보디아', '케냐', '쿠웨이트', '모로코', '가나', '핀란드', '이란', '방글라데시', '', '대학', '크로아티아', '슬로베니아', '소비에트 연방', '베네수엘라', '독일', '네팔', '과테말라', '케이먼제도', '시리아', '말타', '리투아니아', '건강식품', '자메이카', '스리랑카', '소말리아', '바티칸 시티', '이라크', '도미니카 공화국', '수단', '파나마', '독일', '니카라과', '리히텐슈타인', '라트비아어', '슬로바키아', '바하마', '세네갈', '모리셔스', '나미비아', '의료시술', '부르키나 파소', '모잠비크', '짐바브웨', '말라위', '에콰도르', '파라과이', '에티오피아', '금융', '그루지야', '카메룬', '버뮤다', '몬테네그로']\n",
    "\n",
    "\n",
    "trans = ['미국', '인도', '영국', '캐나다', '프랑스', '일본', '스페인', '대한민국', '독일', '멕시코', '중국', '호주', '이집트', '튀르키예', '홍콩', '나이지리아', '이탈리아', '브라질', '아르헨티나', '벨기에', '인도네시아', '대만', '필리핀',\n",
    "'태국', '남아프리카공화국', '콜롬비아', '네덜란드', '덴마크', '아일랜드', '스웨덴', '폴란드', '싱가포르', '아랍에미리트', '뉴질랜드', '레바논', '노르웨이', '이스라엘', '칠레', '러시아', '말레이시아', '파키스탄', '체코', '스위스', '우루과이', '루마니아',\n",
    "'사우디아라비아', '룩셈부르크', '오스트리아', '핀란드', '아이슬란드', '헝가리', '그리스', '페루', '불가리아', '카타르', '요르단', '쿠웨이트', '베트남', '세르비아', '', '캄보디아', '케냐', '포르투갈', '모로코', '서독', '가나', '방글라데시', '베네수엘라',\n",
    "'이란', '크로아티아', '짐바브웨', '소련', '세네갈', '우크라이나', '몰타', '알제리', '시리아', '슬로베니아', '조지아', '과테말라', '이라크', '네팔', '나미비아', '케이맨 제도', '모리셔스', '푸에르토리코', '자메이카', '니카라과',\n",
    "'도미니카공화국', '사모아', '아제르바이잔', '보츠와나', '바티칸 시티', '카자흐스탄', '리히텐슈타인', '리투아니아', '아프가니스탄', '소말리아', '수단', '파나마', '우간다', '동독', '쿠바', '스리랑카', '라트비아', '에티오피아', '사이프러스', '모잠비크', '앙골라',\n",
    "'말라위', '파라과이', '부르키나파소', '알바니아', '팔레스타인', '벨라루스', '카메룬', '슬로바키아', '버뮤다', '에콰도르', '아르메니아', '몽골', '바하마', '몬테네그로']\n",
    "\n",
    "res = {}\n",
    "for key in countries:\n",
    "    for value in trans:\n",
    "        res[key] = value\n",
    "        trans.remove(value)\n",
    "        break\n",
    "\n",
    "print(\"res is : \" + str(res))"
   ]
  },
  {
   "cell_type": "code",
   "execution_count": null,
   "metadata": {},
   "outputs": [],
   "source": [
    "for eng, kor in res.items():\n",
    "    # print(eng, kor)\n",
    "    df.loc[df['country'] == eng, 'country'] = kor\n",
    "\n",
    "df['country'].fillna('', inplace=True)\n",
    "for idx, val in enumerate(df['country']):\n",
    "    if ',' in val:\n",
    "        splitted = val.split(',')\n",
    "        stripped = [s.strip() for s in splitted]\n",
    "        for idx2, elem in enumerate(stripped):\n",
    "            if elem in res.keys():\n",
    "                stripped[idx2] = res[elem]\n",
    "        df['country'].iloc[idx] = ','.join(e for e in stripped)\n",
    "\n",
    "# df.drop(columns=['test'], inplace=True)\n",
    "df.columns = ['id', '종류', '제목', '감독', '배우', '국가', '등록날짜', '발매연도', '심의등급', '상영시간', '장르']\n",
    "# df.head()\n",
    "\n",
    "# 종류 바꾸기\n",
    "df.loc[df['종류'] == \"Movie\", \"종류\"] = \"영화\"\n",
    "df.loc[df['종류'] == \"TV Show\", \"종류\"] = \"TV쇼\"\n",
    "\n",
    "df['등록날짜'] = pd.to_datetime(df['등록날짜'])\n",
    "\n",
    "# df.to_csv()"
   ]
  },
  {
   "cell_type": "code",
   "execution_count": null,
   "metadata": {},
   "outputs": [],
   "source": [
    "df['감독'] = df['감독'].str.replace(',',' /')\n",
    "df.head(20)"
   ]
  },
  {
   "cell_type": "code",
   "execution_count": null,
   "metadata": {},
   "outputs": [],
   "source": [
    "from pathlib import Path\n",
    "filepath = Path('./out.csv')\n",
    "df.to_csv(filepath, index=False, encoding=\"utf-8-sig\")"
   ]
  },
  {
   "cell_type": "code",
   "execution_count": null,
   "metadata": {},
   "outputs": [],
   "source": [
    "# df[df[\"제목\"] == \"NiNoKuni\"]\n",
    "genre_data = df['장르']\n",
    "genre_counting = pd.Series(dict(Counter(','.join(genre_data).replace(' ,',',').replace(', ',',').split(',')))).sort_values(ascending=False)\n",
    "genres = genre_counting.index.tolist()\n",
    "genres"
   ]
  },
  {
   "cell_type": "code",
   "execution_count": null,
   "metadata": {},
   "outputs": [],
   "source": [
    "df.info()"
   ]
  },
  {
   "cell_type": "code",
   "execution_count": null,
   "metadata": {},
   "outputs": [],
   "source": [
    "df['연도'] = df['등록날짜'].dt.year\n",
    "df.drop(df[(df['연도'] <= 2014)].index, inplace=True)\n",
    "box_category = sns.boxplot(data=df, x=\"종류\", y=\"연도\")\n",
    "box_category.set(title=\"콘텐츠 종류별 등록연도\", ylabel=\"등록연도\")"
   ]
  },
  {
   "cell_type": "code",
   "execution_count": null,
   "metadata": {},
   "outputs": [],
   "source": [
    "df2 = pd.read_csv('./netflix.csv', encoding='cp949')\n",
    "\n",
    "filepath = Path('./out.csv')\n",
    "df2.to_csv(filepath, index=False, encoding=\"utf-8-sig\")\n",
    "# df2['제목'] = df2['제목'].str.replace(',',' /')\n",
    "# df2.head(20)\n",
    "# df2.iloc[8419]['제목']\n",
    "df2.head()"
   ]
  },
  {
   "cell_type": "code",
   "execution_count": null,
   "metadata": {},
   "outputs": [],
   "source": [
    "countries = df2['국가']\n",
    "for idx, country in enumerate(countries):\n",
    "    if type (country) == str:\n",
    "        if '/' in country:\n",
    "            single = country.split('/', 1)[0].strip()\n",
    "            df2['국가'] = df2['국가'].replace([country], single)\n",
    "\n",
    "actors = df2['배우']\n",
    "for idx, actor in enumerate(actors):\n",
    "    if type(actor) == str:\n",
    "        if '/' in actor:\n",
    "            single = actor.split('/', 1)[0].strip()\n",
    "            df2['배우'] = df2['배우'].replace([actor], single)\n",
    "\n",
    "genres = df2['장르']\n",
    "for idx, genre in enumerate(genres):\n",
    "    if type(genre) == str:\n",
    "        if '/' in genre:\n",
    "            single = genre.split('/', 1)[0].strip()\n",
    "            df2['장르'] = df2['장르'].replace([genre], single)\n",
    "\n",
    "directors = df2['감독']\n",
    "for idx, direc in enumerate(directors):\n",
    "    if type (direc) == str:\n",
    "        if '/' in direc:\n",
    "            single = direc.split('/', 1)[0].strip()\n",
    "            df2['감독'] = df2['감독'].replace([direc], single)\n",
    "\n",
    "df2.head(20)"
   ]
  },
  {
   "cell_type": "code",
   "execution_count": null,
   "metadata": {},
   "outputs": [],
   "source": [
    "# csv로 export\n",
    "filepath = Path('./out_short.csv')\n",
    "df2.to_csv(filepath, index=False, encoding=\"utf-8-sig\")"
   ]
  },
  {
   "cell_type": "code",
   "execution_count": null,
   "metadata": {},
   "outputs": [],
   "source": [
    "df3 = pd.read_csv('./out_short.csv', encoding='utf-8-sig')\n",
    "df3.head(20)\n"
   ]
  }
 ],
 "metadata": {
  "kernelspec": {
   "display_name": "Python 3",
   "language": "python",
   "name": "python3"
  },
  "language_info": {
   "codemirror_mode": {
    "name": "ipython",
    "version": 3
   },
   "file_extension": ".py",
   "mimetype": "text/x-python",
   "name": "python",
   "nbconvert_exporter": "python",
   "pygments_lexer": "ipython3",
   "version": "3.10.8"
  },
  "orig_nbformat": 4,
  "vscode": {
   "interpreter": {
    "hash": "fb4569285eef3a3450cb62085a5b1e0da4bce0af555edc33dcf29baf3acc1368"
   }
  }
 },
 "nbformat": 4,
 "nbformat_minor": 2
}
