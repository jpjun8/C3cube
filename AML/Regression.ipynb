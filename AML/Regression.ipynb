{
 "cells": [
  {
   "cell_type": "code",
   "execution_count": 1,
   "metadata": {},
   "outputs": [],
   "source": [
    "%matplotlib inline\n",
    "%load_ext autoreload\n",
    "%autoreload 2\n",
    "\n",
    "import matplotlib.pyplot as plt\n",
    "import numpy as np\n",
    "import seaborn as sns\n",
    "import pandas as pd\n",
    "\n",
    "import matplotlib.lines as mlines\n",
    "from sklearn.model_selection import KFold\n",
    "from sklearn.model_selection import train_test_split\n",
    "from sklearn.metrics import r2_score \n",
    "\n",
    "from aml_utils import test_case_checker"
   ]
  },
  {
   "cell_type": "markdown",
   "metadata": {},
   "source": [
    "# *Assignment Summary"
   ]
  },
  {
   "cell_type": "markdown",
   "metadata": {},
   "source": [
    "The following are three problems from the textbook.\n",
    "\n",
    "**Problem 1**: At http://www.statsci.org/data/general/brunhild.html, you will find a dataset that measures the concentration of a sulfate in the blood of a baboon as a function of time. Build a linear regression of the log of the\n",
    "concentration against the log of time.\n",
    "  * (a) Prepare a plot showing (a) the data points and (b) the regression line in log-log coordinates.\n",
    "  * (b) Prepare a plot showing (a) the data points and (b) the regression curve in the original coordinates.\n",
    "  * (c) Plot the residual against the fitted values in log-log and in original coordinates.\n",
    "  * (d) Use your plots to explain whether your regression is good or bad and why.\n",
    "  \n",
    "**Problem 2**: At http://www.statsci.org/data/oz/physical.html, you will find a dataset of measurements by M. Larner, made in 1996. These measurements include body mass, and various diameters. Build a linear regression of predicting the body\n",
    "mass from these diameters.\n",
    "  * (a) Plot the residual against the fitted values for your regression.\n",
    "  * (b) Now regress the cube root of mass against these diameters. Plot the residual against the fitted values in both these cube root coordinates and in the original coordinates.\n",
    "  * (c) Use your plots to explain which regression is better.\n",
    "  \n",
    "**Problem 3**: At https://archive.ics.uci.edu/ml/datasets/Abalone, you will find a dataset of measurements by W. J. Nash, T. L. Sellers, S. R. Talbot, A. J. Cawthorn and W. B. Ford, made in 1992. These are a variety of measurements of blacklip abalone (Haliotis rubra; delicious by repute) of various ages and genders.\n",
    "  * (a) Build a linear regression predicting the age from the measurements, ignoring gender. Plot the residual against the fitted values.\n",
    "  * (b) Build a linear regression predicting the age from the measurements, including gender. There are three levels for gender; I’m not sure whether this has to do with abalone biology or difficulty in determining gender. You can represent gender numerically by choosing 1 for one level, 0 for another, and -1 for the third. Plot the residual against the fitted values.\n",
    "  * (c) Now build a linear regression predicting the log of age from the measurements, ignoring gender. Plot the residual against the fitted values.\n",
    "  * (d) Now build a linear regression predicting the log age from the measurements, including gender, represented as above. Plot the residual against the fitted values.\n",
    "  * (e) It turns out that determining the age of an abalone is possible, but difficult (you section the shell, and count rings). Use your plots to explain which regression you would use to replace this procedure, and why.\n",
    "  * (f) Can you improve these regressions by using a regularizer? obtain plots of the cross-validated prediction error."
   ]
  },
  {
   "cell_type": "markdown",
   "metadata": {},
   "source": [
    "# <span style=\"color:blue\">Task 1</span>"
   ]
  },
  {
   "cell_type": "markdown",
   "metadata": {},
   "source": [
    "Write a function `linear_regression` that fits a linear regression model, and takes the following two arguments as input:\n",
    "\n",
    "1. `X`: A numpy array of the shape `(N,d)` where `N` is the number of data points, and `d` is the data dimension. Do not assume anything about `N` or `d` other than being a positive integer.\n",
    "2. `Y`: A numpy array of the shape `(N,)` where `N` is the number of data points.\n",
    "3. `lam`: The regularization coefficient $\\lambda$, which is a scalar positive value. See the objective function below.\n",
    "\n",
    "and returns the linear regression weight vector \n",
    "$$\\beta=\\begin{bmatrix} \\beta_0\\\\ \\beta_1\\\\ \\cdots \\\\ \\beta_d \\end{bmatrix}$$\n",
    "which is a numpy array with a shape of `(d+1,1)`. Your function should:\n",
    "\n",
    "1. **Have an Intercept Weight**: In other words, your fitting model should be minimizing the following mean-squared loss $$\\mathcal{L}(\\beta; X, Y, \\lambda)^2 = \\frac{1}{N}\\sum_{i=1}^N \\big(y^{(i)} - (\\beta_0 + \\beta_1 x_1^{(i)} + \\beta_2 x_2^{(i)} +\\cdots +\\beta_d x_d^{(i)})\\big)^2 + \\lambda \\beta^T \\beta.$$ An easy way to do this is by concatenating a constant 1-column to the data matrix (think about the right numpy function and the proper call given the defined loss and weight vector format).\n",
    "    \n",
    "    **Hint**: The textbook has provided you with the solution for the least squares optimization with ridge regression which could be helpful.\n",
    "2. **Never Raise An Error, and Return the Solution with the Smallest Euclidean Norm** in case the optimal weight vector is not unique. For instance, when the number of data points is smaller than the dimension, many optimal weight vectors exist. \n",
    "\n",
    "    **Hint**: Reviewing your linear algebra may be helpful in this case. You may want to use the Moore-Penrose matrix inversion.\n",
    "    \n",
    "**Note**: The regularization coefficient will not be used for the first two problems. However, it would be used later, and we expect you to implement it correctly here."
   ]
  },
  {
   "cell_type": "code",
   "execution_count": null,
   "metadata": {
    "deletable": false
   },
   "outputs": [],
   "source": [
    "def linear_regression(X,Y,lam=0):\n",
    "    \"\"\"\n",
    "    Train linear regression model\n",
    "\n",
    "        Parameters:\n",
    "                X (np.array): A numpy array with the shape (N, d) where N is the number of data points and d is dimension\n",
    "                Y (np.array): A numpy array with the shape (N,), where N is the number of data points\n",
    "                lam (int): The regularization coefficient where default value is 0\n",
    "                \n",
    "        Returns:\n",
    "                beta (np.array): A numpy array with the shape (d+1, 1) that represents the linear regression weight vector\n",
    "    \"\"\"\n",
    "    assert X.ndim==2\n",
    "    N = X.shape[0]\n",
    "    d = X.shape[1]\n",
    "    assert Y.size == N\n",
    "    \n",
    "    Y_col = Y.reshape(-1,1)\n",
    "    \n",
    "    # your code here\n",
    "    \n",
    "    \n",
    "    assert beta.shape == (d+1, 1)\n",
    "    return beta"
   ]
  },
  {
   "cell_type": "code",
   "execution_count": null,
   "metadata": {
    "deletable": false,
    "editable": false,
    "nbgrader": {
     "cell_type": "code",
     "checksum": "0ead0b163b9db77404f73a78a19d25ac",
     "grade": false,
     "grade_id": "cell-a0ee65cec4e44285",
     "locked": true,
     "points": 1,
     "schema_version": 3,
     "solution": false,
     "task": false
    }
   },
   "outputs": [],
   "source": [
    "# Performing sanity checks on your implementation\n",
    "some_X = (np.arange(35).reshape(7,5) ** 13) % 20\n",
    "some_Y = np.sum(some_X, axis=1)\n",
    "some_beta = linear_regression(some_X, some_Y, lam=0)\n",
    "assert np.array_equal(some_beta.round(3), np.array([[ 0.],\n",
    "                                                    [ 1.],\n",
    "                                                    [ 1.],\n",
    "                                                    [ 1.],\n",
    "                                                    [ 1.],\n",
    "                                                    [ 1.]]))\n",
    "\n",
    "some_beta_2 = linear_regression(some_X, some_Y, lam=1)\n",
    "assert np.array_equal(some_beta_2.round(3), np.array([[0.032],\n",
    "                                                      [0.887],\n",
    "                                                      [1.08 ],\n",
    "                                                      [1.035],\n",
    "                                                      [0.86 ],\n",
    "                                                      [1.021]]))\n",
    "\n",
    "another_X = some_X.T\n",
    "another_Y = np.sum(another_X, axis=1)\n",
    "another_beta = linear_regression(another_X, another_Y, lam=0)\n",
    "assert np.array_equal(another_beta.round(3), np.array([[-0.01 ],\n",
    "                                                       [ 0.995],\n",
    "                                                       [ 1.096],\n",
    "                                                       [ 0.993],\n",
    "                                                       [ 0.996],\n",
    "                                                       [ 0.995],\n",
    "                                                       [ 0.946],\n",
    "                                                       [ 0.966]]))\n",
    "\n",
    "# Checking against the pre-computed test database\n",
    "test_results = test_case_checker(linear_regression, task_id=1)\n",
    "assert test_results['passed'], test_results['message']"
   ]
  },
  {
   "cell_type": "code",
   "execution_count": null,
   "metadata": {
    "code_folding": [
     138
    ],
    "deletable": false,
    "editable": false,
    "nbgrader": {
     "cell_type": "code",
     "checksum": "4c3768259e8631575c1f627925259d88",
     "grade": true,
     "grade_id": "cell-a0ee65cec4e442856",
     "locked": true,
     "points": 1,
     "schema_version": 3,
     "solution": false,
     "task": false
    }
   },
   "outputs": [],
   "source": [
    "# This cell is left empty as a seperator. You can leave this cell as it is, and you should not delete it.\n"
   ]
  },
  {
   "cell_type": "markdown",
   "metadata": {},
   "source": [
    "# <span style=\"color:blue\">Task 2</span>"
   ]
  },
  {
   "cell_type": "markdown",
   "metadata": {},
   "source": [
    "Write a function `linear_predict` that given the learned weights in the `linear_regression` function predicts the labels. Your functions takes the following two arguments as input:\n",
    "\n",
    "1. `X`: A numpy array of the shape `(N,d)` where `N` is the number of data points, and `d` is the data dimension. Do not assume anything about `N` or `d` other than being a positive integer.\n",
    "2. `beta`: A numpy array of the shape `(d+1,1)` where `d` is the data dimension\n",
    "$$\\beta=\\begin{bmatrix} \\beta_0\\\\ \\beta_1\\\\ \\cdots \\\\ \\beta_d \\end{bmatrix}$$\n",
    "\n",
    "Your function should produce the $\\hat{y}$ numpy array with the shape of `(N,)`, whose $i^{th}$ element is defined as\n",
    "$$\\hat{y}^{(i)} = \\beta_0 + \\beta_1 x_1^{(i)} + \\beta_2 x_2^{(i)} +\\cdots +\\beta_d x_d^{(i)}$$."
   ]
  },
  {
   "cell_type": "code",
   "execution_count": null,
   "metadata": {
    "deletable": false
   },
   "outputs": [],
   "source": [
    "def linear_predict(X,beta):\n",
    "    \"\"\"\n",
    "    Predict with linear regression model\n",
    "\n",
    "        Parameters:\n",
    "                X (np.array): A numpy array with the shape (N, d) where N is the number of data points and d is dimension\n",
    "                beta (np.array): A numpy array of the shape (d+1,1) where d is the data dimension\n",
    "                \n",
    "        Returns:\n",
    "                y_hat (np.array): A numpy array with the shape (N, )\n",
    "    \"\"\"\n",
    "    assert X.ndim==2\n",
    "    N = X.shape[0]\n",
    "    d = X.shape[1]\n",
    "    assert beta.shape == (d+1,1)\n",
    "    \n",
    "    # your code here\n",
    "    raise NotImplementedError\n",
    "    \n",
    "    y_hat = y_hat.reshape(-1)\n",
    "    assert y_hat.size == N\n",
    "    return y_hat"
   ]
  },
  {
   "cell_type": "code",
   "execution_count": null,
   "metadata": {
    "deletable": false,
    "editable": false,
    "nbgrader": {
     "cell_type": "code",
     "checksum": "139da3bf4c6b5fdc2dedb4f7201a058b",
     "grade": false,
     "grade_id": "cell-9d4706d9d0650f10",
     "locked": true,
     "points": 1,
     "schema_version": 3,
     "solution": false,
     "task": false
    }
   },
   "outputs": [],
   "source": [
    "# Performing sanity checks on your implementation\n",
    "some_X = (np.arange(35).reshape(7,5) ** 13) % 20\n",
    "some_beta = 2.**(-np.arange(6).reshape(-1,1))\n",
    "some_yhat = linear_predict(some_X, some_beta)\n",
    "assert np.array_equal(some_yhat.round(3), np.array([ 3.062,  9.156,  6.188, 15.719,  3.062,  9.281,  7.062]))\n",
    "\n",
    "# Checking against the pre-computed test database\n",
    "test_results = test_case_checker(linear_predict, task_id=2)\n",
    "assert test_results['passed'], test_results['message']"
   ]
  },
  {
   "cell_type": "code",
   "execution_count": null,
   "metadata": {
    "deletable": false,
    "editable": false,
    "nbgrader": {
     "cell_type": "code",
     "checksum": "660da901c516bbba79d42437c2061d5a",
     "grade": true,
     "grade_id": "cell-9d4706d9d0650f101",
     "locked": true,
     "points": 1,
     "schema_version": 3,
     "solution": false,
     "task": false
    }
   },
   "outputs": [],
   "source": [
    "# This cell is left empty as a seperator. You can leave this cell as it is, and you should not delete it.\n"
   ]
  },
  {
   "cell_type": "markdown",
   "metadata": {},
   "source": [
    "# <span style=\"color:blue\">Task 3</span>"
   ]
  },
  {
   "cell_type": "markdown",
   "metadata": {},
   "source": [
    "Using the `linear_predict` function that you previously wrote, write a function `linear_residuals` that given the learned weights in the `linear_regression` function calculates the residuals vector. Your functions takes the following arguments as input:\n",
    "\n",
    "1. `X`: A numpy array of the shape `(N,d)` where `N` is the number of data points, and `d` is the data dimension. Do not assume anything about `N` or `d` other than being a positive integer.\n",
    "2. `beta`: A numpy array of the shape `(d+1,1)` where `d` is the data dimension\n",
    "$$\\beta=\\begin{bmatrix} \\beta_0\\\\ \\beta_1\\\\ \\cdots \\\\ \\beta_d \\end{bmatrix}$$\n",
    "\n",
    "\n",
    "3. `Y`: A numpy array of the shape `(N,)` where `N` is the number of data points.\n",
    "\n",
    "Your function should produce the $e$ numpy array with the shape of `(N,)`, whose $i^{th}$ element is defined as\n",
    "$$e^{(i)} = {y}^{(i)} - (\\beta_0 + \\beta_1 x_1^{(i)} + \\beta_2 x_2^{(i)} +\\cdots +\\beta_d x_d^{(i)})$$.\n"
   ]
  },
  {
   "cell_type": "code",
   "execution_count": null,
   "metadata": {
    "deletable": false
   },
   "outputs": [],
   "source": [
    "def linear_residuals(X,beta,Y):\n",
    "    \"\"\"\n",
    "    Calculate residual vector using linear_predict function\n",
    "\n",
    "        Parameters:\n",
    "                X (np.array): A numpy array with the shape (N, d) where N is the number of data points and d is dimension\n",
    "                Y (np.array): A numpy array with the shape (N,) where N is the number of data points\n",
    "                beta (np.array): A numpy array of the shape (d+1,1) where d is the data dimension\n",
    "                \n",
    "        Returns:\n",
    "                e (np.array): A numpy array with the shape (N, ) that represents the residual vector\n",
    "    \"\"\"\n",
    "    \n",
    "    assert X.ndim==2\n",
    "    N = X.shape[0]\n",
    "    d = X.shape[1]\n",
    "    assert beta.shape == (d+1,1)\n",
    "    assert Y.shape == (N,)\n",
    "    \n",
    "    # your code here\n",
    "    raise NotImplementedError\n",
    "    \n",
    "    e = e.reshape(-1)\n",
    "    assert e.size == N\n",
    "    return e"
   ]
  },
  {
   "cell_type": "code",
   "execution_count": null,
   "metadata": {
    "deletable": false,
    "editable": false,
    "nbgrader": {
     "cell_type": "code",
     "checksum": "92b345408ac7176f5bac30817e2f192e",
     "grade": false,
     "grade_id": "cell-d3cb1e300859cc03",
     "locked": true,
     "points": 1,
     "schema_version": 3,
     "solution": false,
     "task": false
    }
   },
   "outputs": [],
   "source": [
    "some_X = (np.arange(35).reshape(7,5) ** 13) % 20\n",
    "some_beta = 2.**(-np.arange(6).reshape(-1,1))\n",
    "some_Y = np.sum(some_X, axis=1)\n",
    "some_res = linear_residuals(some_X, some_beta, some_Y)\n",
    "assert np.array_equal(some_res.round(3), np.array([16.938, 35.844, 33.812, 59.281, 16.938, 39.719, 16.938]))"
   ]
  },
  {
   "cell_type": "code",
   "execution_count": null,
   "metadata": {},
   "outputs": [],
   "source": [
    "# Checking against the pre-computed test database\n",
    "test_results = test_case_checker(linear_residuals, task_id=3)\n",
    "assert test_results['passed'], test_results['message']"
   ]
  },
  {
   "cell_type": "code",
   "execution_count": null,
   "metadata": {
    "deletable": false,
    "editable": false,
    "nbgrader": {
     "cell_type": "code",
     "checksum": "db8dac809d4eeb9e9d43cef3885c9040",
     "grade": true,
     "grade_id": "cell-d3cb1e300859cc032",
     "locked": true,
     "points": 1,
     "schema_version": 3,
     "solution": false,
     "task": false
    }
   },
   "outputs": [],
   "source": [
    "# This cell is left empty as a seperator. You can leave this cell as it is, and you should not delete it.\n"
   ]
  },
  {
   "cell_type": "markdown",
   "metadata": {},
   "source": [
    "# 1. Problem 1"
   ]
  },
  {
   "cell_type": "markdown",
   "metadata": {},
   "source": [
    "## 1.0 Data"
   ]
  },
  {
   "cell_type": "markdown",
   "metadata": {},
   "source": [
    "### 1.0.1 Description"
   ]
  },
  {
   "cell_type": "markdown",
   "metadata": {},
   "source": [
    "A dataset containing the blood sulfate measured in a Baboon can be found at http://www.statsci.org/data/general/brunhild.html. The observations are recorded as a function of time and there are 20 records in the file."
   ]
  },
  {
   "cell_type": "markdown",
   "metadata": {},
   "source": [
    "### 1.0.2 Information Summary"
   ]
  },
  {
   "cell_type": "markdown",
   "metadata": {},
   "source": [
    "* **Input/Output**: This data has two columns; the first is the time of measurement with the unit being an hour since the radioactive material injection, and the second column is the blood sulfate levels in the unit of Geiger counter counts times $10^{-4}$.\n",
    "\n",
    "* **Missing Data**: There is no missing data.\n",
    "\n",
    "* **Final Goal**: We want to **properly** fit a linear regression model."
   ]
  },
  {
   "cell_type": "markdown",
   "metadata": {},
   "source": [
    "### 1.0.3 Loading The Data"
   ]
  },
  {
   "cell_type": "code",
   "execution_count": null,
   "metadata": {},
   "outputs": [],
   "source": [
    "df_1 = pd.read_csv('../Regression-lib/brunhild.txt', sep='\\t')\n",
    "df_1"
   ]
  },
  {
   "cell_type": "markdown",
   "metadata": {},
   "source": [
    "## 1.1 Regression"
   ]
  },
  {
   "cell_type": "markdown",
   "metadata": {},
   "source": [
    "We apply linear regression to this dataset. First, in Section 1.1.1. we apply linear regression to the original coordinates, and then in Section 1.1.2. we apply linear regression in the log-log coordinate. You should see the results and compare them. We use the code that you implemented in the previous tasks.\n",
    "\n",
    "<font color='red'> Attention: </font> Although you are not adding any code in this part, you should see the results, compare them, and think about what is going on. Moreover, you might need to come back and modify the code to answer some questions in the follow-up quiz. "
   ]
  },
  {
   "cell_type": "markdown",
   "metadata": {},
   "source": [
    "The following two functions will be useful to draw regression plots."
   ]
  },
  {
   "cell_type": "code",
   "execution_count": null,
   "metadata": {},
   "outputs": [],
   "source": [
    "def newline(p1, p2, ax):\n",
    "    # This code was borrowed from \n",
    "    # https://stackoverflow.com/questions/36470343/how-to-draw-a-line-with-matplotlib/36479941\n",
    "    xmin, xmax = ax.get_xbound()\n",
    "\n",
    "    if(p2[0] == p1[0]):\n",
    "        xmin = xmax = p1[0]\n",
    "        ymin, ymax = ax.get_ybound()\n",
    "    else:\n",
    "        ymax = p1[1]+(p2[1]-p1[1])/(p2[0]-p1[0])*(xmax-p1[0])\n",
    "        ymin = p1[1]+(p2[1]-p1[1])/(p2[0]-p1[0])*(xmin-p1[0])\n",
    "\n",
    "    l = mlines.Line2D([xmin,xmax], [ymin,ymax])\n",
    "    ax.add_line(l)\n",
    "    return l\n",
    "\n",
    "def draw_regression(X,Y,beta,ax):\n",
    "    ax.scatter(X, Y, c='b', marker='o')\n",
    "    line_obj = newline([0, np.sum(beta*np.array([[1],[0]]))], [2, np.sum(beta*np.array([[1],[2]]))], ax)\n",
    "    line_obj.set_color('black')\n",
    "    line_obj.set_linestyle('--')\n",
    "    line_obj.set_linewidth(2)\n",
    "    return ax"
   ]
  },
  {
   "cell_type": "markdown",
   "metadata": {},
   "source": [
    "### 1.1.1 Regression in the Original Coordinates"
   ]
  },
  {
   "cell_type": "markdown",
   "metadata": {},
   "source": [
    "Now, we find the linear regression in the original coordinates. For this, we use the `linear_regression` and `linear_residuals` functions that you implemented previously. We do not use any regularization here, so $\\lambda=0$."
   ]
  },
  {
   "cell_type": "code",
   "execution_count": null,
   "metadata": {},
   "outputs": [],
   "source": [
    "X_1 = df_1['Hours'].values.reshape(-1,1)\n",
    "Y_1 = df_1['Sulfate'].values.reshape(-1)\n",
    "\n",
    "fig, ax = plt.subplots(figsize=(9,6.), dpi=120)\n",
    "\n",
    "beta_1 = linear_regression(X_1,Y_1,lam=0)\n",
    "ax = draw_regression(X_1,Y_1,beta_1,ax)\n",
    "\n",
    "residuals_1 = linear_residuals(X_1, beta_1, Y_1)\n",
    "fitted_1 = linear_predict(X_1, beta_1)\n",
    "\n",
    "r2_1 = r2_score(Y_1, fitted_1) #computes the R^2 score\n",
    "\n",
    "ax.set_xlabel('Time')\n",
    "ax.set_ylabel('Blood Sulfate')\n",
    "_ = ax.set_title('Blood Sulfate Vs. Time Regression, R^2=%.2f' %r2_1)"
   ]
  },
  {
   "cell_type": "markdown",
   "metadata": {},
   "source": [
    "Lets compare our result with an off-the-shelf package. The package`seaborn` does the whole linear regression process in a single line. Let's try that, and see how it matches with our plot."
   ]
  },
  {
   "cell_type": "code",
   "execution_count": null,
   "metadata": {},
   "outputs": [],
   "source": [
    "fig, ax = plt.subplots(figsize=(9,6.), dpi=120)\n",
    "sns.regplot(x='Hours', y='Sulfate', data=df_1, ax=ax)\n",
    "_ = ax.set_title('Blood Sulfate Vs. Time Regression')"
   ]
  },
  {
   "cell_type": "markdown",
   "metadata": {},
   "source": [
    "Now we draw the residuals against the fitted values."
   ]
  },
  {
   "cell_type": "code",
   "execution_count": null,
   "metadata": {},
   "outputs": [],
   "source": [
    "fig, ax = plt.subplots(figsize=(9,6.), dpi=120)\n",
    "ax.scatter(fitted_1, residuals_1)\n",
    "\n",
    "ax.set_xlabel('Fitted Blood Sulfate')\n",
    "ax.set_ylabel('Residuals')\n",
    "_ = ax.set_title('Residuals Vs. Fitted Values')"
   ]
  },
  {
   "cell_type": "markdown",
   "metadata": {},
   "source": [
    "### 1.1.2 Regression in the Log-Log Coordinates"
   ]
  },
  {
   "cell_type": "markdown",
   "metadata": {},
   "source": [
    "Next, we find the linear regression for the log of the blood sulfate level against the log of time. We first use the `linear_regression` and `linear_residuals` functions that you implemented above."
   ]
  },
  {
   "cell_type": "code",
   "execution_count": null,
   "metadata": {},
   "outputs": [],
   "source": [
    "log_X_1 = np.log(df_1['Hours'].values.reshape(-1,1))\n",
    "log_Y_1 = np.log(df_1['Sulfate'].values.reshape(-1))\n",
    "\n",
    "fig, ax = plt.subplots(figsize=(9,6.), dpi=120)\n",
    "\n",
    "beta_1_log = linear_regression(log_X_1,log_Y_1,lam=0)\n",
    "residuals_1_log = linear_residuals(log_X_1, beta_1_log, log_Y_1)\n",
    "fitted_1_log = linear_predict(log_X_1, beta_1_log)\n",
    "\n",
    "r2_1_log = r2_score(log_Y_1, fitted_1_log) #computes the R^2 score\n",
    "\n",
    "ax = draw_regression(log_X_1,log_Y_1,beta_1_log,ax)\n",
    "\n",
    "ax.set_xlabel('Log Time')\n",
    "ax.set_ylabel('Log Blood Sulfate')\n",
    "_ = ax.set_title('Log Blood Sulfate Vs. Log Time Regression, R^2 = %.2f' %r2_1_log)"
   ]
  },
  {
   "cell_type": "markdown",
   "metadata": {},
   "source": [
    "We also compare our plot with the `seaborn` package."
   ]
  },
  {
   "cell_type": "code",
   "execution_count": null,
   "metadata": {},
   "outputs": [],
   "source": [
    "fig, ax = plt.subplots(figsize=(9,6.), dpi=120)\n",
    "log_df_1 = df_1.copy(deep=True)\n",
    "log_df_1['Log Hours'] = np.log(df_1['Hours'])\n",
    "log_df_1['Log Sulfate'] = np.log(df_1['Sulfate'])\n",
    "sns.regplot(x='Log Hours', y='Log Sulfate', data=log_df_1, ax=ax)\n",
    "_ = ax.set_title('Log Blood Sulfate Vs. Log Time Regression')"
   ]
  },
  {
   "cell_type": "markdown",
   "metadata": {},
   "source": [
    "We also plot the residuals against fitted log blood sulfate."
   ]
  },
  {
   "cell_type": "code",
   "execution_count": null,
   "metadata": {},
   "outputs": [],
   "source": [
    "fig, ax = plt.subplots(figsize=(9,6.), dpi=120)\n",
    "ax.scatter(fitted_1_log, residuals_1_log)\n",
    "\n",
    "ax.set_xlabel('Fitted Log Blood Sulfate')\n",
    "ax.set_ylabel('Residuals')\n",
    "_ = ax.set_title('Residuals Vs. Fitted Values')"
   ]
  },
  {
   "cell_type": "markdown",
   "metadata": {},
   "source": [
    "# 2. Problem 2"
   ]
  },
  {
   "cell_type": "markdown",
   "metadata": {},
   "source": [
    "## 2.0 Data"
   ]
  },
  {
   "cell_type": "markdown",
   "metadata": {},
   "source": [
    "### 2.0.1 Description"
   ]
  },
  {
   "cell_type": "markdown",
   "metadata": {},
   "source": [
    "At http://www.statsci.org/data/oz/physical.html, you will find a dataset of measurements by M. Larner, made in 1996. These measurements include body mass, and various diameters. Build a linear regression of predicting the body mass from these diameters."
   ]
  },
  {
   "cell_type": "markdown",
   "metadata": {},
   "source": [
    "### 2.0.2 Information Summary"
   ]
  },
  {
   "cell_type": "markdown",
   "metadata": {},
   "source": [
    "* **Input/Output**: This data has 11 columns, with the first column being the body mass and label.\n",
    "\n",
    "* **Missing Data**: There is no missing data.\n",
    "\n",
    "* **Final Goal**: We want to fit a linear regression model."
   ]
  },
  {
   "cell_type": "markdown",
   "metadata": {},
   "source": [
    "### 2.0.3 Loading The Data"
   ]
  },
  {
   "cell_type": "code",
   "execution_count": null,
   "metadata": {},
   "outputs": [],
   "source": [
    "df_2 = pd.read_csv('../Regression-lib/physical.txt', sep='\\t')\n",
    "df_2"
   ]
  },
  {
   "cell_type": "markdown",
   "metadata": {},
   "source": [
    "## 2.1 Regression"
   ]
  },
  {
   "cell_type": "markdown",
   "metadata": {},
   "source": [
    "### 2.1.1 Original Coordinates"
   ]
  },
  {
   "cell_type": "markdown",
   "metadata": {},
   "source": [
    "We first try to find the linear regression to predict the body mass based on the input diameters in the original coordinates. Note that unlike Problem 1, we have 11 input variables here, and we cannot plot body mass against the input variables and see how the fitted plot behaves. For this, we plot the residuals against the fitted mass. Similar to Problem 1, we do not use regularization and hence $\\lambda=0$.\n",
    "\n",
    "<font color='red'> Attention: </font> Although you are not adding any code in this part, you should see the results, compare them, and think about what is going on. Moreover, you might need to come back and modify the code to answer some questions in the follow-up quiz."
   ]
  },
  {
   "cell_type": "code",
   "execution_count": null,
   "metadata": {},
   "outputs": [],
   "source": [
    "X_2 = df_2.loc[:, df_2.columns != 'Mass'].values\n",
    "Y_2 = df_2['Mass'].values\n",
    "\n",
    "fig, ax = plt.subplots(figsize=(9,6.), dpi=120)\n",
    "\n",
    "beta_2 = linear_regression(X_2,Y_2,lam=0)\n",
    "residuals_2 = linear_residuals(X_2, beta_2, Y_2)\n",
    "fitted_2 = linear_predict(X_2, beta_2)\n",
    "\n",
    "ax.scatter(fitted_2, residuals_2)\n",
    "\n",
    "ax.set_xlabel('Fitted Mass')\n",
    "ax.set_ylabel('Residuals')\n",
    "_ = ax.set_title('Residuals Vs. Fitted Mass')\n",
    "\n",
    "print('mean square error: %.2f' %np.mean(residuals_2**2))"
   ]
  },
  {
   "cell_type": "markdown",
   "metadata": {},
   "source": [
    "### 2.1.2 Cubic Root Labels"
   ]
  },
  {
   "cell_type": "markdown",
   "metadata": {},
   "source": [
    "Now, we find the linear regression between the input variables and the cubic root of the body mass. Then, we plot cubic root residuals against fitted cubic root mass."
   ]
  },
  {
   "cell_type": "code",
   "execution_count": null,
   "metadata": {},
   "outputs": [],
   "source": [
    "X_2 = df_2.loc[:, df_2.columns != 'Mass'].values\n",
    "Y_2_cr = (df_2['Mass'].values**(1./3.))\n",
    "\n",
    "fig, ax = plt.subplots(figsize=(9,6.), dpi=120)\n",
    "\n",
    "beta_2_cr = linear_regression(X_2,Y_2_cr,lam=0)\n",
    "residuals_2_cr = linear_residuals(X_2, beta_2_cr, Y_2_cr)\n",
    "fitted_2_cr = linear_predict(X_2, beta_2_cr)\n",
    "\n",
    "ax.scatter(fitted_2_cr, residuals_2_cr)\n",
    "\n",
    "ax.set_xlabel('Fitted Cubic Root Mass')\n",
    "ax.set_ylabel('Cubic Root Residuals')\n",
    "_ = ax.set_title('Cubic Root Residuals Vs. Fitted Cubic Root Mass')"
   ]
  },
  {
   "cell_type": "markdown",
   "metadata": {},
   "source": [
    "### 2.1.3 Cubic Root Labels in the Original Scale"
   ]
  },
  {
   "cell_type": "markdown",
   "metadata": {},
   "source": [
    "To compare the fitted values in the original scale, we raise the fitted cubic root mass to the power of 3 and compare them with the original mass values. Then, we plot the residuals against fitted cubic root mass to the power of 3."
   ]
  },
  {
   "cell_type": "code",
   "execution_count": null,
   "metadata": {},
   "outputs": [],
   "source": [
    "X_2 = df_2.loc[:, df_2.columns != 'Mass'].values\n",
    "Y_2 = df_2['Mass'].values\n",
    "Y_2_cr = (Y_2**(1./3.))\n",
    "\n",
    "fig, ax = plt.subplots(figsize=(9,6.), dpi=120)\n",
    "\n",
    "beta_2_cr = linear_regression(X_2, Y_2_cr, lam=0)\n",
    "fitted_2_orig = (linear_predict(X_2, beta_2_cr))**3.\n",
    "residuals_2_orig = Y_2 - fitted_2_orig\n",
    "\n",
    "\n",
    "ax.scatter(fitted_2_orig, residuals_2_orig)\n",
    "\n",
    "ax.set_xlabel('Fitted Cubic Root Mass To The Power of 3')\n",
    "ax.set_ylabel('Residuals')\n",
    "_ = ax.set_title('Residuals Vs. Fitted Cubic Root Mass To The Power of 3 (In The Original Coordinates)')\n",
    "\n",
    "print('mean square error: %.2f' %np.mean(residuals_2_orig**2))"
   ]
  },
  {
   "cell_type": "markdown",
   "metadata": {},
   "source": [
    "# 3. Problem 3"
   ]
  },
  {
   "cell_type": "markdown",
   "metadata": {},
   "source": [
    "## 3.0 Data"
   ]
  },
  {
   "cell_type": "markdown",
   "metadata": {},
   "source": [
    "### 3.0.1 Description"
   ]
  },
  {
   "cell_type": "markdown",
   "metadata": {},
   "source": [
    "At https://archive.ics.uci.edu/ml/datasets/Abalone, you will find a dataset of measurements by W. J. Nash, T. L. Sellers, S. R. Talbot, A. J. Cawthorn and W. B. Ford, made in 1992. These are a variety of measurements of blacklip abalone (Haliotis rubra; delicious by repute) of various ages and genders."
   ]
  },
  {
   "cell_type": "markdown",
   "metadata": {},
   "source": [
    "### 3.0.2 Information Summary"
   ]
  },
  {
   "cell_type": "markdown",
   "metadata": {},
   "source": [
    "* **Input/Output**: This data has 9 columns, with the last column being the rings count which serves as the age of the abalone and the label.\n",
    "\n",
    "* **Missing Data**: There is no missing data.\n",
    "\n",
    "* **Final Goal**: We want to fit a linear regression model predicting the age."
   ]
  },
  {
   "cell_type": "markdown",
   "metadata": {},
   "source": [
    "### 3.0.3 Loading The Data"
   ]
  },
  {
   "cell_type": "code",
   "execution_count": null,
   "metadata": {},
   "outputs": [],
   "source": [
    "df_3 = pd.read_csv('../Regression-lib/abalone.data', sep=',', header=None)\n",
    "df_3.columns = ['Sex', 'Length', 'Diameter', 'Height', 'Whole weight', 'Shucked weight', \n",
    "                'Viscera weight', 'Shell weight', 'Rings']\n",
    "df_3"
   ]
  },
  {
   "cell_type": "markdown",
   "metadata": {},
   "source": [
    "## 3.1 Predicting the age from the measurements, ignoring gender"
   ]
  },
  {
   "cell_type": "markdown",
   "metadata": {},
   "source": [
    "Our goal is to predict the number of rings against the input variables. However, since the input gender variable is discrete (it is one of the three values `M`, `F`, or `I`), we first ignore the gender input.\n",
    "\n",
    "<font color='red'> Attention: </font> Although you are not adding any code in this part, you should see the results, compare them, and think about what is going on. Moreover, you might need to come back and modify the code to answer some questions in the follow-up quiz."
   ]
  },
  {
   "cell_type": "code",
   "execution_count": null,
   "metadata": {},
   "outputs": [],
   "source": [
    "X_3 = df_3.loc[:, (df_3.columns != 'Rings') & (df_3.columns != 'Sex')].values\n",
    "Y_3 = df_3['Rings'].values\n",
    "\n",
    "fig, ax = plt.subplots(figsize=(9,6.), dpi=120)\n",
    "\n",
    "beta_3 = linear_regression(X_3,Y_3,lam=0)\n",
    "residuals_3 = linear_residuals(X_3, beta_3, Y_3)\n",
    "fitted_3 = linear_predict(X_3, beta_3)\n",
    "\n",
    "ax.scatter(fitted_3, residuals_3)\n",
    "\n",
    "ax.set_xlabel('Fitted Age (Ignoring Gender)')\n",
    "ax.set_ylabel('Residuals')\n",
    "_ = ax.set_title('Residuals Vs. Fitted Age (Ignoring Gender)')\n",
    "\n",
    "print('mean square error = %.2f' %np.mean(residuals_3**2))"
   ]
  },
  {
   "cell_type": "markdown",
   "metadata": {},
   "source": [
    "## 3.2 Predicting the age from the measurements, including gender"
   ]
  },
  {
   "cell_type": "markdown",
   "metadata": {},
   "source": [
    "Now, we convert gender into a numeric value by replacing `F` with 1, `M` with 0, and `I` with -1. Then, we again run the linear regression."
   ]
  },
  {
   "cell_type": "code",
   "execution_count": null,
   "metadata": {},
   "outputs": [],
   "source": [
    "X_3_gender = df_3.loc[:, (df_3.columns != 'Rings') & (df_3.columns != 'Sex')].values\n",
    "X_3_gender = np.concatenate([X_3, np.array([{'F':1, 'M':0, 'I':-1}.get(x) for x in df_3.Sex]).reshape(-1,1)], axis=1)\n",
    "Y_3 = df_3['Rings'].values\n",
    "\n",
    "fig, ax = plt.subplots(figsize=(9,6.), dpi=120)\n",
    "\n",
    "beta_3_gender = linear_regression(X_3_gender,Y_3,lam=0)\n",
    "residuals_3_gender = linear_residuals(X_3_gender, beta_3_gender, Y_3)\n",
    "fitted_3_gender = linear_predict(X_3_gender, beta_3_gender)\n",
    "\n",
    "ax.scatter(fitted_3_gender, residuals_3_gender)\n",
    "\n",
    "ax.set_xlabel('Fitted Age (Including Gender)')\n",
    "ax.set_ylabel('Residuals')\n",
    "_ = ax.set_title('Residuals Vs. Fitted Age (Including Gender)')\n",
    "\n",
    "print('mean square error = %.2f' %np.mean(residuals_3_gender**2))"
   ]
  },
  {
   "cell_type": "markdown",
   "metadata": {},
   "source": [
    "## 3.3 Predicting the log of age from the measurements, ignoring gender"
   ]
  },
  {
   "cell_type": "markdown",
   "metadata": {},
   "source": [
    "We now find the linear regression of the log of the output against the input variables, ignoring gender."
   ]
  },
  {
   "cell_type": "code",
   "execution_count": null,
   "metadata": {},
   "outputs": [],
   "source": [
    "X_3 = df_3.loc[:, (df_3.columns != 'Rings') & (df_3.columns != 'Sex')].values\n",
    "Y_3 = df_3['Rings'].values\n",
    "Y_3_log = np.log(df_3['Rings'].values)\n",
    "\n",
    "fig, ax = plt.subplots(figsize=(9,6.), dpi=120)\n",
    "\n",
    "beta_3_log = linear_regression(X_3,Y_3_log,lam=0)\n",
    "residuals_3_log = linear_residuals(X_3, beta_3_log, Y_3_log)\n",
    "fitted_3_log = linear_predict(X_3, beta_3_log)\n",
    "\n",
    "ax.scatter(fitted_3_log, residuals_3_log)\n",
    "\n",
    "ax.set_xlabel('Fitted Log Age (Ignoring Gender)')\n",
    "ax.set_ylabel('Residuals')\n",
    "_ = ax.set_title('Residuals Vs. Fitted Log Age (Ignoring Gender)')\n",
    "\n",
    "fitted_3_log_orig = np.exp(fitted_3_log) #predicted values back to the original coordinates\n",
    "residuals_3_log_orig = Y_3 - fitted_3_log_orig #residuals in the original coordinates\n",
    "print('mean square error (in the original coordinates) = %.2f' %np.mean(residuals_3_log_orig**2))"
   ]
  },
  {
   "cell_type": "markdown",
   "metadata": {},
   "source": [
    "## 3.4 Predicting the log age from the measurements, including gender"
   ]
  },
  {
   "cell_type": "markdown",
   "metadata": {},
   "source": [
    "We use the same numeric values for the gender as in Section 3.2, and find the linear regression to predict the log of the output against the input variables."
   ]
  },
  {
   "cell_type": "code",
   "execution_count": null,
   "metadata": {},
   "outputs": [],
   "source": [
    "X_3_gender = df_3.loc[:, (df_3.columns != 'Rings') & (df_3.columns != 'Sex')].values\n",
    "X_3_gender = np.concatenate([X_3_gender, np.array([{'F':1, 'M':0, 'I':-1}.get(x) for x in df_3.Sex]).reshape(-1,1)], axis=1)\n",
    "Y_3 = df_3['Rings'].values\n",
    "Y_3_log = np.log(df_3['Rings'].values)\n",
    "\n",
    "fig, ax = plt.subplots(figsize=(9,6.), dpi=120)\n",
    "\n",
    "beta_3_gender_log = linear_regression(X_3_gender,Y_3_log,lam=0)\n",
    "residuals_3_gender_log = linear_residuals(X_3_gender, beta_3_gender_log, Y_3_log)\n",
    "fitted_3_gender_log = linear_predict(X_3_gender, beta_3_gender_log)\n",
    "\n",
    "ax.scatter(fitted_3_gender_log, residuals_3_gender_log)\n",
    "\n",
    "ax.set_xlabel('Fitted Log Age (Including Gender)')\n",
    "ax.set_ylabel('Residuals')\n",
    "_ = ax.set_title('Residuals Vs. Fitted Log Age (Including Gender)')\n",
    "\n",
    "fitted_3_gender_log_orig = np.exp(fitted_3_gender_log) # predicted values back to the original coordinates\n",
    "residuals_3_gender_log = Y_3 - fitted_3_gender_log_orig\n",
    "print('mean square error (in the original coordinates) = %.2f' %np.mean(residuals_3_gender_log**2))\n"
   ]
  },
  {
   "cell_type": "markdown",
   "metadata": {},
   "source": [
    "## 3.5 Applying Cross Validation For Regularization"
   ]
  },
  {
   "cell_type": "markdown",
   "metadata": {},
   "source": [
    "We now bring the regularization into play. We use cross validation to find the value of $\\lambda$ to predict the log of the output variable against all the input variables. We convert the gender input to a numeric value using the conversion in Section 3.2. We then plot the cross-validation mean square error against the log of $\\lambda$.\n",
    "\n",
    "In the following code, the variable `Y_transform` determines whether we try to predict the labels in the original coordinates or in the logarithmic space. If the value of `Y_transform` is `linear`, we apply linear transformation in the original coordinates, and if its value is `log`, we use logarithmic transformation. In case we work in the logarithmic space, in order to find the mean square error, after finding the predicted values, we transform them back into the original coordinates using `np.exp` and then compare them to the correct values."
   ]
  },
  {
   "cell_type": "code",
   "execution_count": null,
   "metadata": {},
   "outputs": [],
   "source": [
    "log_lambda_list = np.arange(-20, 5)\n",
    "X_3_gender = df_3.loc[:, (df_3.columns != 'Rings') & (df_3.columns != 'Sex')].values\n",
    "X_3_gender = np.concatenate([X_3_gender, np.array([{'F':1, 'M':0, 'I':-1}.get(x) for x in df_3.Sex]).reshape(-1,1)], axis=1)\n",
    "Y_3 = df_3['Rings'].values\n",
    "Y_3_log = np.log(df_3['Rings'].values)\n",
    "\n",
    "Y_transform = 'log' # 'linear': output variable in the original coordinate is considered, 'log': log of output is considered\n",
    "\n",
    "if Y_transform == 'linear':\n",
    "    X_train_val, X_test, Y_train_val, Y_test = train_test_split(X_3_gender, Y_3, test_size=0.2, random_state=12345, shuffle=True)\n",
    "if Y_transform == 'log':\n",
    "    X_train_val, X_test, Y_train_val, Y_test = train_test_split(X_3_gender, Y_3_log, test_size=0.2, random_state=12345, shuffle=True)\n",
    "\n",
    "kf = KFold(n_splits=10, shuffle=True, random_state=12345)\n",
    "\n",
    "cross_val_mses = []\n",
    "for train_idx, val_idx in kf.split(X_train_val):\n",
    "    X_train, X_val, Y_train, Y_val = X_train_val[train_idx], X_train_val[val_idx], Y_train_val[train_idx], Y_train_val[val_idx]\n",
    "    \n",
    "    for log_lambda in log_lambda_list:\n",
    "        beta_3_cv = linear_regression(X_train, Y_train, lam=np.exp(log_lambda))\n",
    "        if Y_transform == 'linear':\n",
    "            val_residuals = linear_residuals(X_val, beta_3_cv, Y_val)\n",
    "            \n",
    "        if Y_transform == 'log':\n",
    "            val_predict_log = linear_predict(X_val, beta_3_cv) # predicted in log space\n",
    "            val_predict_log_orig = np.exp(val_predict_log) # get back to original coordinates\n",
    "\n",
    "            val_residuals = np.exp(Y_val) - val_predict_log_orig\n",
    "            \n",
    "        val_mse = np.mean(val_residuals**2)\n",
    "        \n",
    "        cross_val_mses.append([log_lambda, val_mse])\n",
    "\n",
    "cross_val_mses = np.array(cross_val_mses)\n",
    "fig, ax = plt.subplots(figsize=(9,6.), dpi=120)\n",
    "x_name, y_name = 'Log Lambda', 'Cross-Validation Mean Squared Error'\n",
    "cv_df = pd.DataFrame(cross_val_mses, columns =[x_name, y_name])\n",
    "sns.lineplot(x=x_name, y=y_name,data=cv_df, ax=ax)\n",
    "_ = ax.set_title('Cross-Validation For Regularization Coefficient')"
   ]
  },
  {
   "cell_type": "markdown",
   "metadata": {},
   "source": [
    "Lets see what was the best value of $\\lambda$ and the corresponding mean square error."
   ]
  },
  {
   "cell_type": "code",
   "execution_count": null,
   "metadata": {},
   "outputs": [],
   "source": [
    "avg_cv_err_df = cv_df.groupby(x_name).mean()\n",
    "best_log_lam = avg_cv_err_df[y_name].idxmin()\n",
    "best_cv_mse = avg_cv_err_df.loc[best_log_lam][y_name]\n",
    "\n",
    "print(f'Best Log Lambda value was {best_log_lam} with a cross-validation MSE of %.3f' %best_cv_mse)\n",
    "\n",
    "beta_full = linear_regression(X_train_val,Y_train_val,lam=np.exp(best_log_lam))\n",
    "\n",
    "if Y_transform == 'linear':\n",
    "    test_residuals = linear_residuals(X_test, beta_full, Y_test)\n",
    "    test_mse = np.mean(test_residuals**2)\n",
    "if Y_transform == 'log':\n",
    "    test_predict = linear_predict(X_test, beta_full)\n",
    "    test_predict_orig = np.exp(test_predict)\n",
    "    test_residuals = np.exp(Y_test) - test_predict_orig\n",
    "    test_mse = np.mean(test_residuals**2)\n",
    "print(f'The resulting test mean squared error would be %.3f' % test_mse)"
   ]
  },
  {
   "cell_type": "code",
   "execution_count": null,
   "metadata": {},
   "outputs": [],
   "source": []
  }
 ],
 "metadata": {
  "illinois_payload": {
   "b64z": "",
   "nb_path": "release/Regression/Regression.ipynb"
  },
  "kernelspec": {
   "display_name": "Python 3 (Threads: 2)",
   "language": "python",
   "name": "python3"
  },
  "language_info": {
   "codemirror_mode": {
    "name": "ipython",
    "version": 3
   },
   "file_extension": ".py",
   "mimetype": "text/x-python",
   "name": "python",
   "nbconvert_exporter": "python",
   "pygments_lexer": "ipython3",
   "version": "3.8.12"
  }
 },
 "nbformat": 4,
 "nbformat_minor": 4
}
