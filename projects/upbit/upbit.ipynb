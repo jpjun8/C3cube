{
 "cells": [
  {
   "cell_type": "code",
   "execution_count": 3,
   "metadata": {},
   "outputs": [
    {
     "name": "stdout",
     "output_type": "stream",
     "text": [
      "                           open        high         low       close  \\\n",
      "2023-01-19 09:00:00  25701000.0  26299000.0  25690000.0  26205000.0   \n",
      "2023-01-20 09:00:00  26208000.0  28105000.0  26101000.0  28026000.0   \n",
      "2023-01-21 09:00:00  28025000.0  29000000.0  27721000.0  28333000.0   \n",
      "2023-01-22 09:00:00  28333000.0  28706000.0  27937000.0  28390000.0   \n",
      "2023-01-23 09:00:00  28400000.0  28890000.0  28220000.0  28609000.0   \n",
      "2023-01-24 09:00:00  28600000.0  28951000.0  28014000.0  28351000.0   \n",
      "2023-01-25 09:00:00  28363000.0  28428000.0  28001000.0  28357000.0   \n",
      "\n",
      "                          volume         value  \n",
      "2023-01-19 09:00:00  3265.225511  8.473315e+10  \n",
      "2023-01-20 09:00:00  6019.113075  1.617842e+11  \n",
      "2023-01-21 09:00:00  7165.779761  2.036514e+11  \n",
      "2023-01-22 09:00:00  4350.789211  1.237055e+11  \n",
      "2023-01-23 09:00:00  4463.876856  1.273641e+11  \n",
      "2023-01-24 09:00:00  6049.392006  1.732244e+11  \n",
      "2023-01-25 09:00:00  1568.997463  4.431398e+10  \n"
     ]
    }
   ],
   "source": [
    "import pyupbit\n",
    "import numpy as np\n",
    "df = pyupbit.get_ohlcv(\"KRW-BTC\", count=7)\n",
    "print(df)"
   ]
  },
  {
   "cell_type": "code",
   "execution_count": 13,
   "metadata": {},
   "outputs": [
    {
     "name": "stdout",
     "output_type": "stream",
     "text": [
      "========================================\n",
      "테스트 결과\n",
      "----------------------------------------\n",
      "총 거래 횟수 : 58\n",
      "승리 횟수 : 25\n",
      "승률 : 43.103448275862064\n",
      "누적 수익률 : 0.7921362488284345\n",
      "현재 잔액 : 792136.2488284349\n",
      "최고 잔액 : 1089724.5215247637\n",
      "최저 잔액 : 718776.7459441604\n",
      "최대 낙폭 (MDD) : 34.040509161119545\n",
      "========================================\n"
     ]
    }
   ],
   "source": [
    "import pyupbit\n",
    "import numpy as np\n",
    "\n",
    "class backTesting :\n",
    "    def __init__(self, daily_data, start_cash) :\n",
    "        self.daily_data = daily_data # 일봉 데이터\n",
    "        self.fee = 0.0011 # 수수료 ( calculate_fee.xlsx 참고 )\n",
    "        self.buy_signal = False # 매수 신호\n",
    "        \n",
    "        self.start_cash = start_cash # 시작 자산\n",
    "        self.current_cash = start_cash # 현재 자산\n",
    "        self.highest_cash = start_cash # 자산 최고점\n",
    "        self.lowest_cash = start_cash # 자산 최저점\n",
    "\n",
    "        self.ror = 1 # 수익률\n",
    "        self.accumulated_ror = 1 # 누적 수익률\n",
    "        self.mdd = 0 # 최대 낙폭\n",
    "\n",
    "        self.trade_count = 0 # 거래횟수\n",
    "        self.win_count = 0 # 승리횟수\n",
    "\n",
    "    def execute(self) :\n",
    "\n",
    "        # 노이즈 계산 ( 1- 절대값(시가 - 종가) / (고가 - 저가) )\n",
    "        self.daily_data['noise'] = 1 - abs(self.daily_data['open'] - self.daily_data['close']) / (self.daily_data['high'] - self.daily_data['low'])\n",
    "        # 노이즈 20일 평균\n",
    "        self.daily_data['noise_ma20'] = self.daily_data['noise'].rolling(window=20, min_periods=1).mean()\n",
    "\n",
    "        # 변동폭 ( 고가 - 저가 )\n",
    "        self.daily_data['range'] = self.daily_data['high'] - self.daily_data['low']\n",
    "        # 목표매수가 ( 시가 + 변동폭 * K )\n",
    "        self.daily_data['targetPrice'] = self.daily_data['open'] + self.daily_data['range'].shift(1) * self.daily_data['noise_ma20']\n",
    "        # 5일 이동평균선\n",
    "        self.daily_data['ma5'] = self.daily_data['close'].rolling(window=5, min_periods=1).mean().shift(1)\n",
    "        # 상승장 여부\n",
    "        self.daily_data['bull'] = self.daily_data['open'] > self.daily_data['ma5']\n",
    "\n",
    "        for idx, row in df.iterrows() :\n",
    "            # 매수 신호 확인\n",
    "            self.buy_signal = np.where((row['targetPrice'] <= row['high']) & row['bull'], True, False) # 목표가에 달성한 경우 목표가에 매수해 다음날 시가에 매도한 것으로 판단 + 상승장 조건 추가\n",
    "\n",
    "            # 거래횟수 계산\n",
    "            self.trade_count += 1 if self.buy_signal else 0\n",
    "\n",
    "            # 수익률 계산\n",
    "            self.ror = row['close'] / row['targetPrice'] - self.fee if self.buy_signal else 1 # 다음날 시가와 당일 종가의 시간차이가 거의 없으므로 종가로 계산\n",
    "\n",
    "            # 승리 횟수 계산\n",
    "            self.win_count += 1 if self.ror > 1 else 0\n",
    "\n",
    "            # 누적 수익률 계산\n",
    "            self.accumulated_ror *= self.ror\n",
    "            \n",
    "            # 현재 자산 갱신\n",
    "            self.current_cash *= self.ror\n",
    "\n",
    "            # 자산 최고점 갱신\n",
    "            self.highest_cash = max(self.highest_cash, self.current_cash)\n",
    "\n",
    "            # 자산 최저점 갱신\n",
    "            self.lowest_cash = min(self.lowest_cash, self.current_cash)\n",
    "\n",
    "            # 최대 낙폭 계산\n",
    "            dd = (self.highest_cash - self.current_cash) / self.highest_cash * 100\n",
    "            self.mdd = max(self.mdd, dd)\n",
    "\n",
    "        self.result()\n",
    "\n",
    "    def result(self) :\n",
    "        print('='*40)\n",
    "        print('테스트 결과')\n",
    "        print('-'*40)\n",
    "        print('총 거래 횟수 : %s' %self.trade_count)\n",
    "        print('승리 횟수 : %s' %self.win_count)\n",
    "        print('승률 : %s' %(self.win_count / self.trade_count * 100))\n",
    "        print('누적 수익률 : %s' %self.accumulated_ror)\n",
    "        print('현재 잔액 : %s' % self.current_cash)\n",
    "        print('최고 잔액 : %s' % self.highest_cash)\n",
    "        print('최저 잔액 : %s' % self.lowest_cash)\n",
    "        print('최대 낙폭 (MDD) : %s' % self.mdd)\n",
    "        print('='*40)\n",
    "\n",
    "df = pyupbit.get_ohlcv(\"KRW-BTC\", count=365) # 일봉 데이터\n",
    "backtest = backTesting(df, 1000000)\n",
    "backtest.execute()"
   ]
  }
 ],
 "metadata": {
  "kernelspec": {
   "display_name": "Python 3",
   "language": "python",
   "name": "python3"
  },
  "language_info": {
   "codemirror_mode": {
    "name": "ipython",
    "version": 3
   },
   "file_extension": ".py",
   "mimetype": "text/x-python",
   "name": "python",
   "nbconvert_exporter": "python",
   "pygments_lexer": "ipython3",
   "version": "3.10.8"
  },
  "orig_nbformat": 4,
  "vscode": {
   "interpreter": {
    "hash": "fb4569285eef3a3450cb62085a5b1e0da4bce0af555edc33dcf29baf3acc1368"
   }
  }
 },
 "nbformat": 4,
 "nbformat_minor": 2
}
