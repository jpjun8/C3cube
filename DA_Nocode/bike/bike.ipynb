{
 "cells": [
  {
   "attachments": {},
   "cell_type": "markdown",
   "metadata": {},
   "source": [
    "필요한 모듈 불러오기\n",
    "- `pandas`, `numpy`, `matplotlib.pyplot`, (`sklearn`)\n",
    "- warning 제거"
   ]
  },
  {
   "cell_type": "code",
   "execution_count": 2,
   "metadata": {},
   "outputs": [],
   "source": [
    "import warnings\n",
    "import pandas as pd\n",
    "import numpy as np\n",
    "import matplotlib.pyplot as plt\n",
    "import seaborn as sns\n",
    "from sklearn import linear_model\n",
    "\n",
    "plt.style.use('fivethirtyeight')\n",
    "warnings.filterwarnings('ignore')"
   ]
  },
  {
   "attachments": {},
   "cell_type": "markdown",
   "metadata": {},
   "source": [
    "## 프로젝트 개요 (Project 1, 2, 3)\n",
    "- 데이터의 주제, 데이터가 설명하고 있는 항목, 특징\n",
    "- 기존 Super AI 프로젝트에는 없는 부분: *문제 정의하기* 부분을 둘로 나누기\n",
    "    - 데이터에 대한 전반적인 설명 (Project 1, 2, 3)\n",
    "    - 데이터를 분석, 활용하여 풀어갈 문제 제시 (문제 정의)\n",
    "- 이미지, 사진 첨부"
   ]
  },
  {
   "attachments": {},
   "cell_type": "markdown",
   "metadata": {},
   "source": [
    "## 문제 정의\n",
    "- 문제를 제기하게 된 배경\n",
    "- 데이터 분석을 통해 해결할 수 있을 만한 3~4가지 정도의 문제 정의"
   ]
  },
  {
   "attachments": {},
   "cell_type": "markdown",
   "metadata": {},
   "source": [
    "## 데이터 수집 1, 2\n",
    "- 객관식 : *데이터를 수집하는 방법으로 가장 알맞지 않은 것은?*\n",
    "- Drag & Drop : \n",
    "    - 데이터를 보고 각 문제마다 어떤 특성들을 사용해야 하는지 고르기\n",
    "    - 문제 해결에 사용할 만한 데이터 고르기"
   ]
  },
  {
   "attachments": {},
   "cell_type": "markdown",
   "metadata": {},
   "source": [
    "## 데이터 전처리 1, 2\n",
    "- 결측값 확인, 처리 : 대체? 삭제? 대체한다면 0 / 평균값?\n",
    "- 이상값 확인, 처리 :\n",
    "    - Incomplete, Wrong : 올바르게 고치기 (D&D)\n",
    "    - Redundant : 반복된 데이터 찾아서 삭제 (D&D)"
   ]
  },
  {
   "attachments": {},
   "cell_type": "markdown",
   "metadata": {},
   "source": [
    "## EDA 1, 2, 3, 4\n",
    "문제 정의 부분의 문제 순차적으로 하나씩 풀어가기 \n",
    "- 막대 or 누적 막대 그래프, 원, 꺾은선, 산점도, 박스 그래프 최대한 활용 : 데이터별로 활용할만한 그래프 종류가 다르니 여러가지 실험해보고 결정\n"
   ]
  }
 ],
 "metadata": {
  "kernelspec": {
   "display_name": "Python 3",
   "language": "python",
   "name": "python3"
  },
  "language_info": {
   "codemirror_mode": {
    "name": "ipython",
    "version": 3
   },
   "file_extension": ".py",
   "mimetype": "text/x-python",
   "name": "python",
   "nbconvert_exporter": "python",
   "pygments_lexer": "ipython3",
   "version": "3.10.8 (tags/v3.10.8:aaaf517, Oct 11 2022, 16:50:30) [MSC v.1933 64 bit (AMD64)]"
  },
  "orig_nbformat": 4,
  "vscode": {
   "interpreter": {
    "hash": "fb4569285eef3a3450cb62085a5b1e0da4bce0af555edc33dcf29baf3acc1368"
   }
  }
 },
 "nbformat": 4,
 "nbformat_minor": 2
}
