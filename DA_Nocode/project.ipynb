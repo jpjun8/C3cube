{
 "cells": [
  {
   "attachments": {},
   "cell_type": "markdown",
   "metadata": {},
   "source": [
    "필요한 모듈 불러오기\n",
    "- `pandas`, `numpy`, `matplotlib.pyplot`, (`sklearn`)\n",
    "- warning 제거"
   ]
  },
  {
   "cell_type": "code",
   "execution_count": null,
   "metadata": {},
   "outputs": [],
   "source": [
    "import warnings\n",
    "import pandas as pd\n",
    "import numpy as np\n",
    "import matplotlib.pyplot as plt\n",
    "import seaborn as sns\n",
    "from sklearn import linear_model\n",
    "from scipy import stats\n",
    "from matplotlib import cm\n",
    "\n",
    "plt.rc('font', family='Malgun Gothic')\n",
    "plt.style.use('ggplot')\n",
    "warnings.filterwarnings('ignore')"
   ]
  },
  {
   "attachments": {},
   "cell_type": "markdown",
   "metadata": {},
   "source": [
    "## 프로젝트 개요 (Project 1, 2, 3)\n",
    "- 데이터의 주제, 데이터가 설명하고 있는 항목, 특징\n",
    "- 기존 Super AI 프로젝트에는 없는 부분: *문제 정의하기* 부분을 둘로 나누기\n",
    "    - 데이터에 대한 전반적인 설명 (Project 1, 2, 3)\n",
    "    - 데이터를 분석, 활용하여 풀어갈 문제 제시 (문제 정의)\n",
    "- 이미지, 사진 첨부"
   ]
  },
  {
   "attachments": {},
   "cell_type": "markdown",
   "metadata": {},
   "source": [
    "## 문제 정의\n",
    "- 문제를 제기하게 된 배경\n",
    "- 데이터 분석을 통해 해결할 수 있을 만한 3~4가지 정도의 문제 정의"
   ]
  },
  {
   "attachments": {},
   "cell_type": "markdown",
   "metadata": {},
   "source": [
    "## 데이터 수집 1, 2\n",
    "- 객관식 : *데이터를 수집하는 방법으로 가장 알맞지 않은 것은?*\n",
    "- Drag & Drop : \n",
    "    - 데이터를 보고 각 문제마다 어떤 특성들을 사용해야 하는지 고르기\n",
    "    - 문제 해결에 사용할 만한 데이터 고르기"
   ]
  },
  {
   "attachments": {},
   "cell_type": "markdown",
   "metadata": {},
   "source": [
    "## 데이터 전처리 1, 2\n",
    "- 결측값 확인, 처리 : 대체? 삭제? 대체한다면 0 / 평균값?\n",
    "- 이상값 확인, 처리 :\n",
    "    - Incomplete, Wrong : 올바르게 고치기 (D&D)\n",
    "    - Redundant : 반복된 데이터 찾아서 삭제 (D&D)\n",
    "- 이외의 정의된 문제와 관계없는 데이터 처리"
   ]
  },
  {
   "attachments": {},
   "cell_type": "markdown",
   "metadata": {},
   "source": [
    "## EDA 1, 2, 3, 4\n",
    "문제 정의 부분의 문제 순차적으로 하나씩 풀어가기 \n",
    "- 막대 or 누적 막대 그래프, 원, 꺾은선, 산점도, 박스 그래프 최대한 활용 : 데이터별로 활용할만한 그래프 종류가 다르니 여러가지 실험해보고 결정\n",
    "---"
   ]
  },
  {
   "attachments": {},
   "cell_type": "markdown",
   "metadata": {},
   "source": [
    "## 따릉이\n",
    "\n",
    "### 개요\n",
    "최근 서울시 자전거 무료 대여 시스템인 따릉이를 찾는 사람들이 많아졌습니다.\n",
    "그동안 수집한 따릉이 데이터는 시간별 대여 횟수뿐만 아니라 기온, 비가 왔는지 여부 등의 특성도 나타내고 있습니다.\n",
    "\n",
    "이에 따라 언제 사람들이 따릉이를 많이 대여하는지 분석해보려고 합니다.\n",
    "또한 데이터 분석 결과에 따라 특정 상황에 따릉이가 얼만큼 대여될지 예측해 봅시다.\n",
    "\n",
    "### 문제 정의\n",
    "- 따릉이 대여횟수가 가장 높은 시간대는 어느 시간대일까? (막대 / 꺾은선)\n",
    "    - 시간대별 따릉이 대여횟수 시각화 (박스)\n",
    "    - 시간대별 평균값 구하기\n",
    "- 기온은 따릉이 대여횟수에 높은 영향을 끼칠까? (꺾은선 / 산점도)\n",
    "- 정말 비가 오면 사람들이 따릉이를 적게 대여할까? (막대 / 원)\n",
    "- 비가 오는 아침 8시의 따릉이 대여횟수 예측하기 (산점도: label로 구분하여 비가 올 때와 안 올 떄 구분, 시간대별 평균값 사용 X - 원본 데이터 사용)\n",
    "\n",
    "### 데이터 수집 1 - 공공데이터 포털 (csv 파일)\n",
    "- 필요할 것 같은 항목과 필요없어도 될 것 같은 항목 구분하기 (O/X)\n",
    "\n",
    "### 데이터 수집 2 - 직접 자료 조사 (표)\n",
    "- 데이터 수집 1에서 구분한 항목 표에 알맞게 옮기기 (D&D)"
   ]
  },
  {
   "cell_type": "code",
   "execution_count": null,
   "metadata": {},
   "outputs": [],
   "source": [
    "df = pd.read_csv(\"./bike/train.csv\")"
   ]
  },
  {
   "attachments": {},
   "cell_type": "markdown",
   "metadata": {},
   "source": [
    "### 데이터 전처리 1 - 필요없는 항목 제거\n",
    "- 수집한 전체 데이터셋 보여주고 필요없는 항목 체크하기, 열 이름 바꾸기"
   ]
  },
  {
   "cell_type": "code",
   "execution_count": null,
   "metadata": {},
   "outputs": [],
   "source": [
    "bike = df.drop([\"hour_bef_windspeed\", \"hour_bef_humidity\", \"hour_bef_visibility\", \"hour_bef_ozone\", \"hour_bef_pm10\", \"hour_bef_pm2.5\"], axis=1)\n",
    "bike.columns = [\"id\", \"hour\", \"temperature\", \"precipitation\", \"count\"]\n",
    "bike.tail()"
   ]
  },
  {
   "attachments": {},
   "cell_type": "markdown",
   "metadata": {},
   "source": [
    "### 데이터 전처리 2 - 결측값 확인, 처리\n",
    "- 데이터 첫 10행 제공 : 알맞는 내용으로 추가하여 표 완성하기 (D&D)"
   ]
  },
  {
   "cell_type": "code",
   "execution_count": null,
   "metadata": {},
   "outputs": [],
   "source": [
    "# temperature, precipitation 각 2개\n",
    "bike.dropna(inplace=True) # 행 삭제\n",
    "\n",
    "print(bike.shape)\n",
    "bike.isna().sum()"
   ]
  },
  {
   "attachments": {},
   "cell_type": "markdown",
   "metadata": {},
   "source": [
    "### 데이터 전처리 3 - 이상값 확인, 처리\n",
    "- 데이터 끝 10행 제공 : 미완성, 잘못된 데이터 올바르게 수정 (중복 선다형)"
   ]
  },
  {
   "cell_type": "code",
   "execution_count": null,
   "metadata": {},
   "outputs": [],
   "source": [
    "# too complex"
   ]
  },
  {
   "attachments": {},
   "cell_type": "markdown",
   "metadata": {},
   "source": [
    "### EDA 1\n",
    "- 시간대별 따릉이 평균 대여횟수 나타내기 : 표로 평균값 제공 → 알맞지 않은 그래프 선택해보기 (선다형)"
   ]
  },
  {
   "cell_type": "code",
   "execution_count": null,
   "metadata": {},
   "outputs": [],
   "source": [
    "avgs = bike.groupby([\"hour\"])['count'].mean()\n",
    "\n",
    "# 꺾은선\n",
    "plt.title(\"시간대별 따릉이 평균 대여횟수\")\n",
    "avgs.plot(xlabel=\"시간\", ylabel=\"평균 대여횟수\", color='#51a26a')"
   ]
  },
  {
   "cell_type": "code",
   "execution_count": null,
   "metadata": {},
   "outputs": [],
   "source": [
    "plt.title(\"시간대별 따릉이 평균 대여횟수\")\n",
    "\n",
    "# avgs.plot(kind=\"bar\", xlabel=\"시간\", ylabel=\"평균 대여횟수\", color=\"#51a26a\")\n",
    "scatter = sns.scatterplot(data = avgs, color=\"#51a26a\", s = 125)\n",
    "scatter.set(xlabel = \"시간\", ylabel = \"평균 대여횟수\")"
   ]
  },
  {
   "cell_type": "code",
   "execution_count": null,
   "metadata": {},
   "outputs": [],
   "source": [
    "plt.title(\"시간대별 따릉이 평균 대여횟수\")\n",
    "\n",
    "avgs.plot(kind=\"bar\", xlabel=\"시간\", ylabel=\"평균 대여횟수\", fontsize=13, color=\"#51a26a\", rot=0)"
   ]
  },
  {
   "cell_type": "code",
   "execution_count": null,
   "metadata": {},
   "outputs": [],
   "source": [
    "plt.title(\"시간대별 따릉이 평균 대여횟수\")\n",
    "avgs.plot(kind=\"pie\", ylabel=\"시간\", fontsize=8, colormap=\"jet\", wedgeprops={\"edgecolor\":\"k\", \"linewidth\":1, 'antialiased': True})"
   ]
  },
  {
   "attachments": {},
   "cell_type": "markdown",
   "metadata": {},
   "source": [
    "### EDA 2\n",
    "- 시간대별 따릉이 대여횟수 그대로 시각화 : 빈칸 채워서 문자 완성하기"
   ]
  },
  {
   "cell_type": "code",
   "execution_count": null,
   "metadata": {},
   "outputs": [],
   "source": [
    "mean = pd.DataFrame(avgs)\n",
    "sns.lineplot(x = 'hour', y = 'count', data = mean, color=\"#51a26a\")"
   ]
  },
  {
   "attachments": {},
   "cell_type": "markdown",
   "metadata": {},
   "source": [
    "### EDA 3\n",
    "- temperature vs. count 시각화 "
   ]
  },
  {
   "cell_type": "code",
   "execution_count": null,
   "metadata": {},
   "outputs": [],
   "source": [
    "plt.title(\"기온별 대여횟수\")\n",
    "line = sns.lineplot(x = \"temperature\", y = \"count\", data = bike, color=\"#51a26a\", ci=None) # type: ignore\n",
    "line.set(xlabel=\"기온\", ylabel=\"대여횟수\")"
   ]
  },
  {
   "attachments": {},
   "cell_type": "markdown",
   "metadata": {},
   "source": [
    "### EDA 4\n",
    "- precipitation vs. count 시각화"
   ]
  },
  {
   "cell_type": "code",
   "execution_count": null,
   "metadata": {},
   "outputs": [],
   "source": [
    "# print(avgs.info())\n",
    "sns.set_palette(\"colorblind\", 1)\n",
    "line = sns.lineplot(data = bike, x = 'hour', y = 'count', hue=\"precipitation\", style=\"precipitation\", ci=None, linewidth=3) # type: ignore\n",
    "line.set(xlabel=\"시간\", ylabel=\"평균 대여횟수\", title=\"시간별 따릉이 평균 대여횟수\")\n",
    "line.legend(labels=[\"안 왔음\",\"왔음\"])"
   ]
  },
  {
   "attachments": {},
   "cell_type": "markdown",
   "metadata": {},
   "source": [
    "### 문제 해결 2\n",
    "- 오휴 3시, 비 올 때 대여횟수 예측 : 그래프 사용"
   ]
  },
  {
   "cell_type": "code",
   "execution_count": null,
   "metadata": {},
   "outputs": [],
   "source": [
    "rain = bike[bike[\"precipitation\"] == 1]\n",
    "rain.head()\n",
    "eda5 = sns.scatterplot(data = rain, x = \"hour\", y = \"count\", c = 'dodgerblue', s=70)\n",
    "eda5.set(xlabel=\"시간\", ylabel=\"평균 대여횟수\", title=\"비 오는 날 시간별 따릉이 평균 대여횟수\")\n",
    "plt.axvline(15, linewidth=2, color=\"firebrick\")\n",
    "plt.axvline(8, linewidth=2, color=\"darkorange\")\n",
    "plt.annotate(\n",
    "    '오전 8시',\n",
    "    xy=(8, 125),\n",
    "    xytext=(3, 150),\n",
    "    arrowprops=dict(arrowstyle='->', color='darkorange', connectionstyle='arc3, rad=.2'),\n",
    "    fontsize=15\n",
    ")\n",
    "plt.annotate(\n",
    "    '오후 3시',\n",
    "    xy=(15, 125),\n",
    "    xytext=(10, 150),\n",
    "    arrowprops=dict(arrowstyle='->', color='firebrick', connectionstyle='arc3, rad=.2'),\n",
    "    fontsize=15\n",
    ")"
   ]
  },
  {
   "cell_type": "code",
   "execution_count": null,
   "metadata": {},
   "outputs": [],
   "source": [
    "bike[[\"count\", \"temperature\"]].corr()"
   ]
  },
  {
   "attachments": {},
   "cell_type": "markdown",
   "metadata": {},
   "source": [
    "---"
   ]
  },
  {
   "attachments": {},
   "cell_type": "markdown",
   "metadata": {},
   "source": [
    "## 서울대공원\n",
    "\n",
    "### 데이터 수집 1 - 공공데이터 포털 (csv 파일)\n",
    "\n",
    "### 데이터 수집 2 - 직접 자료 조사 (표)\n"
   ]
  },
  {
   "cell_type": "code",
   "execution_count": null,
   "metadata": {},
   "outputs": [],
   "source": [
    "park = pd.read_csv(\"./seoul/Seoul_Park.csv\")\n",
    "# print(park.head())\n",
    "\n",
    "park.info()\n",
    "# park.isna().sum()\n",
    "# print(park.tail())"
   ]
  },
  {
   "cell_type": "code",
   "execution_count": null,
   "metadata": {},
   "outputs": [],
   "source": [
    "park.tail(8)\n",
    "# park[\"날씨\"].unique()"
   ]
  },
  {
   "attachments": {},
   "cell_type": "markdown",
   "metadata": {},
   "source": [
    "Brainstorming\n",
    "- 요일별 입장객 수 비교\n",
    "- 공휴일과 아닌 날 입장객 수 비교\n",
    "- 날씨와 총 입장객 수 관계 확인\n",
    "- 성인과 미성년자 입장객 수 비교\n",
    "\n",
    "Scenario\n",
    "<!-- - 친구들과 서울대공원으로 놀러가려고 하는데 무슨 요일에, 날씨가 어떨 때, 공휴일/주일에 가야하는지?\n",
    "- 설문조사를 하러 서울대공원으로 가게 되었는데 성인과 미성년자로 대상을 나누어 진행한다\n",
    "    - 무슨 요일에 가야 성인/미성년자 입장객 수가 많을까?\n",
    "        - 각각 조사 + 시각화\n",
    "    - 공휴일에 가야할까 아닌 날에 가야할까?\n",
    "    - 날씨는 입장객 수에 영향이 있을까? -->\n",
    "- 서울대공원으로 자주 놀러가는 XXX는 입장객이 너무 많아 관람을 제대로 하지 못하였습니다. 그래서 몇가지 가설을 세운 뒤 확인하기 위해 서울대공원 입장객 데이터를 분석해보기로 하였습니다.\n",
    "    - 무슨 요일에 입장객 수가 많을까?\n",
    "    - 날씨가 좋으면 입장객 수가 많을까?\n",
    "    - 청소년들은 공휴일에 많이 올까 비공휴일에 많이 올까?\n",
    "\n",
    "Prediction\n",
    "- 데이터 의미 해석: 청소년들이 가장 많이 방문하는 요일은 무슨 요일일까? --> 청소년들이 많이 방문하는 날에 가면 친구들을 만날 수도 있어서 재미있을 확률이 높음\n",
    "- 예측: 날씨가 맑은 금요일 오후 2시에 가면 관람이 어려울까? --> 청소년 데이터만 봤을 때는 금요일에 가장 많지만 총계로 봤을 때는 그다지 높지 않기 때문에 충분히 원활한 관람 가능할 것\n"
   ]
  },
  {
   "attachments": {},
   "cell_type": "markdown",
   "metadata": {},
   "source": [
    "### 데이터 전처리 1 - 필요없는 항목 제거\n",
    "- 수집한 전체 데이터셋 보여주고 필요없는 항목 체크하기, 열 이름 바꾸기"
   ]
  },
  {
   "cell_type": "code",
   "execution_count": null,
   "metadata": {},
   "outputs": [],
   "source": [
    "# 유료합계, 무료합계 제거\n",
    "temp = park.drop([\"유료합계\", \"무료합계\"], axis=1)\n",
    "temp.info()"
   ]
  },
  {
   "attachments": {},
   "cell_type": "markdown",
   "metadata": {},
   "source": [
    "### 데이터 전처리 2 - 데이터 형태 변환\n",
    "- 어른, 청소년, 어린이, 외국인, 단체, 총계: object -> int"
   ]
  },
  {
   "cell_type": "code",
   "execution_count": null,
   "metadata": {},
   "outputs": [],
   "source": [
    "cols = [\"어른\", \"청소년\", \"어린이\", \"외국인\", \"단체\", \"총계\"]\n",
    "for i in cols:\n",
    "    temp[i] = temp[i].replace({',':''}, regex=True)\n",
    "    temp[i] = pd.to_numeric(temp[i], errors='coerce').fillna(0)\n",
    "temp.head()"
   ]
  },
  {
   "attachments": {},
   "cell_type": "markdown",
   "metadata": {},
   "source": [
    "## Optional Data Preprocessing: \n",
    "- sort days of week in the order of Mon, Tue, Wed, ..."
   ]
  },
  {
   "cell_type": "code",
   "execution_count": null,
   "metadata": {},
   "outputs": [],
   "source": [
    "x = temp[:3]\n",
    "# x.info()\n",
    "\n",
    "df = temp.drop([0, 1, 2])\n",
    "# print(x.head())\n",
    "# print(y.head())\n",
    "\n",
    "df = df.append(x, ignore_index=True)\n",
    "# print(df.info())\n",
    "# print(df.tail())\n",
    "df.tail()"
   ]
  },
  {
   "attachments": {},
   "cell_type": "markdown",
   "metadata": {},
   "source": [
    "## EDA 1 & 2"
   ]
  },
  {
   "cell_type": "code",
   "execution_count": null,
   "metadata": {},
   "outputs": [],
   "source": [
    "# 요일 가져오기\n",
    "days = df[\"요일\"].unique()\n",
    "# print(days)\n",
    "# days = np.roll(days, -3)[::-1] # 순서 알맞게 배치\n",
    "\n",
    "# 요일별 합계 저장할 리스트\n",
    "total_sum = []\n",
    "\n",
    "# 요일별 합계 저장\n",
    "for i in days:\n",
    "    day = df[df[\"요일\"] == i]\n",
    "    sum = day[\"총계\"].sum()\n",
    "    total_sum.append(sum)\n",
    "\n",
    "# 요일별 합계 numpy 배열로 변환: 시각화하려면 필요함\n",
    "total_sum = np.array(total_sum)\n",
    "\n",
    "# 색깔 팔레트 설정\n",
    "colors = sns.color_palette('pastel')[0:7]\n",
    "\n",
    "plt.title(\"요일별 총 입장객 수\")\n",
    "\n",
    "# 파이 차트: 색깔 팔레트 사용, 수치 소수점 1자리까지 표시, 시작점 90도\n",
    "plt.pie(x = total_sum, labels = days, colors=colors, autopct=\"%.1f%%\", startangle=90, counterclock=False)\n",
    "plt.show()"
   ]
  },
  {
   "cell_type": "code",
   "execution_count": null,
   "metadata": {},
   "outputs": [],
   "source": [
    "line_days = sns.lineplot(data=df, x=\"요일\", y=\"총계\", ci=None) # good\n",
    "line_days.set(ylabel=\"평균 입장객 수\", title=\"요일별 평균 입장객 수\")"
   ]
  },
  {
   "cell_type": "code",
   "execution_count": null,
   "metadata": {},
   "outputs": [],
   "source": [
    "days_rel = sns.relplot(data=df, x=\"요일\", y=\"총계\") # bad\n",
    "days_rel.set(ylabel=\"총 입장객 수\", title=\"요일별 총 입장객 수\")\n",
    "# sns.set(rc={'figure.figsize':(6, 6)})"
   ]
  },
  {
   "cell_type": "code",
   "execution_count": null,
   "metadata": {},
   "outputs": [],
   "source": [
    "days_bar = sns.barplot(data=df, x=\"요일\", y=\"총계\", ci=None) # bad\n",
    "days_bar.set(ylabel=\"평균 입장객 수\", title=\"요일별 평균 입장객 수\")\n",
    "\n",
    "# temp = ['금', '목', '수', '월', '일', '토', '화']\n",
    "# print(mean_of_sum)\n",
    "\n",
    "# plt.title(\"요일별 평균 입장객 수\")\n",
    "# plt.bar(temp, mean_of_sum, color=colors)\n",
    "# plt.xlabel(\"요일\")\n",
    "# plt.ylabel(\"평균 입장객 수\")\n",
    "# plt.show()"
   ]
  },
  {
   "attachments": {},
   "cell_type": "markdown",
   "metadata": {},
   "source": [
    "## EDA 3"
   ]
  },
  {
   "cell_type": "code",
   "execution_count": null,
   "metadata": {},
   "outputs": [],
   "source": [
    "eda3_bar = sns.barplot(data=df, x=\"날씨\", y=\"총계\", ci=None)\n",
    "eda3_bar.set(ylabel=\"평균 입장객 수\", title=\"날씨별 평균 입장객 수\")"
   ]
  },
  {
   "attachments": {},
   "cell_type": "markdown",
   "metadata": {},
   "source": [
    "## EDA 4"
   ]
  },
  {
   "cell_type": "code",
   "execution_count": null,
   "metadata": {},
   "outputs": [],
   "source": [
    "eda4 = sns.barplot(data=df, x=\"요일\", y=\"청소년\", hue=\"공휴일\", ci=None)\n",
    "eda4.set(ylabel=\"평균 청소년 입장객 수\", title=\"요일별 평균 청소년 입장객 수\")\n",
    "plt.legend([\"비공휴일\", \"공휴일\"])"
   ]
  },
  {
   "cell_type": "code",
   "execution_count": null,
   "metadata": {},
   "outputs": [],
   "source": [
    "# Convert '날짜' to datetime dtype\n",
    "df['날짜'] = pd.to_datetime(df[\"날짜\"])\n",
    "df['월'] = df['날짜'].dt.month\n",
    "\n",
    "# 계절 구분 numpy\n",
    "conditions = [\n",
    "    (df['월'] >= 3) & (df['월'] <= 5),\n",
    "    (df['월'] >= 6) & (df['월'] <= 8),\n",
    "    (df['월'] >= 9) & (df['월'] <= 11),\n",
    "    (df['월'] == 1) | (df['월'] == 2) | (df['월'] == 12)\n",
    "]\n",
    "\n",
    "vals = ['봄', '여름', '가을', '겨울']\n",
    "\n",
    "df['계절'] = np.select(conditions, vals)\n",
    "\n",
    "# df.iloc[330:340]"
   ]
  },
  {
   "cell_type": "code",
   "execution_count": null,
   "metadata": {},
   "outputs": [],
   "source": [
    "# 계절별 입장객 수 (df['계절'] vs. df['총계'])\n",
    "# sns.barplot(data=df, x='계절', y='총계')\n",
    "\n",
    "# 월별 입장객 수\n",
    "eda4 = sns.lineplot(data=df, x='월', y='총계', ci=None, marker='o', c='darkorange')\n",
    "eda4.set(ylabel=\"평균 입장객 수\", title=\"월별 평균 입장객 수\", xticks=(range(1, 13)))"
   ]
  },
  {
   "attachments": {},
   "cell_type": "markdown",
   "metadata": {},
   "source": [
    "---"
   ]
  },
  {
   "attachments": {},
   "cell_type": "markdown",
   "metadata": {},
   "source": [
    "## 데이터 목록\n",
    "- ~~[패스트푸드 영양 데이터](https://www.openintro.org/data/index.php?data=fastfood) : 영문임~~\n",
    "- ~~[경기도 동물원 등록 현황](https://data.gg.go.kr/portal/data/service/selectServicePage.do?infId=RRG5RANNJ7CJKKR3SH0B32072415&infSeq=1) : 똑같은 데이터가 너무 많음~~\n",
    "- [앱스토어 어플 별점](https://www.kaggle.com/datasets/ramamet4/app-store-apple-data-set-10k-apps?select=AppleStore.csv)"
   ]
  },
  {
   "attachments": {},
   "cell_type": "markdown",
   "metadata": {},
   "source": [
    "### ~~동물원 데이터 검토~~"
   ]
  },
  {
   "cell_type": "code",
   "execution_count": null,
   "metadata": {},
   "outputs": [],
   "source": [
    "temp = pd.read_csv(\"./newdata/zoo.csv\", encoding='cp949')\n",
    "zoo = temp.drop(['정제WGS84위도', '정제WGS84경도', '정제도로명주소', '정제지번주소'], axis=1)\n",
    "zoo = zoo.drop_duplicates()\n",
    "zoo.head()"
   ]
  },
  {
   "attachments": {},
   "cell_type": "markdown",
   "metadata": {},
   "source": [
    "### 앱스토어 어플 별점\n",
    "- 서울대공원 관람을 마치고 집에 오는 길에 심심할 것 같아서 새로운 게임을 하나 다운받으려고함.\n",
    "    - 데이터 의미 해석\n",
    "        - 어떤 종류의 앱이 가장 많을까?\n",
    "        - 가격이 높을수록 별점이 낮아질까?\n",
    "        - 리뷰가 많으면 별점이 낮아질까?\n",
    "        - \n",
    "    - 예측\n",
    "        - 리뷰도 많고 별점도 높은 무료 게임 Top 5?\n",
    "    - 기획 방향성\n",
    "        - 알고싶은, 특정한 몇 가지의 앱 이름만 사용\n"
   ]
  },
  {
   "cell_type": "code",
   "execution_count": null,
   "metadata": {},
   "outputs": [],
   "source": [
    "temp = pd.read_csv(\"./newdata/AppleStore.csv\")\n",
    "print(temp.loc[9:19][[\"track_name\", \"prime_genre\"]])\n",
    "app = temp.drop(['Unnamed: 0', 'id', 'size_bytes', 'ver', 'rating_count_ver', 'vpp_lic', 'lang.num', 'ipadSc_urls.num', 'sup_devices.num', 'user_rating_ver', 'cont_rating'], axis=1)\n",
    "app = app.drop(['currency'], axis=1) # it's all in USD\n",
    "app = app.drop_duplicates()\n",
    "\n",
    "# Change column names\n",
    "app.columns = ['이름', '가격', '리뷰', '별점', '장르']\n",
    "# app.head()"
   ]
  },
  {
   "cell_type": "code",
   "execution_count": null,
   "metadata": {},
   "outputs": [],
   "source": [
    "app.loc[1200:1210]\n",
    "# app.info()"
   ]
  },
  {
   "cell_type": "code",
   "execution_count": null,
   "metadata": {},
   "outputs": [],
   "source": [
    "# 앱 종류 값 한글로 변경\n",
    "genres = app['장르'].unique() # 23개 종류\n",
    "to_kor = ['게임', '생산성', '날씨', '쇼핑', '참조', '금융', '음악', '유틸리티', '여행',\n",
    "'소셜 네트워킹', '스포츠', '비즈니스', '건강 및 피트니스', '엔터테인먼트', '사진 및 비디오',\n",
    "'내비게이션', '교육', '라이프스타일', '음식 및 음료', '뉴스', '도서', '의료', '카탈로그']\n",
    "# print(len(to_kor))\n",
    "\n",
    "for i in range(len(genres)):\n",
    "    app.loc[app[\"장르\"] == genres[i], \"장르\"] = to_kor[i]\n",
    "\n",
    "app.loc[9:19]\n",
    "# app.info()"
   ]
  },
  {
   "attachments": {},
   "cell_type": "markdown",
   "metadata": {},
   "source": [
    "## EDA 1\n",
    "- 적합한 데이터 시각화 방법 고르기 : 어떤 종류의 앱이 가장 많이 등록되어 있나"
   ]
  },
  {
   "cell_type": "code",
   "execution_count": null,
   "metadata": {},
   "outputs": [],
   "source": [
    "vals = app[\"장르\"].value_counts().values\n",
    "real_vals = np.append(vals[0:7], np.sum(vals[7:])) # type: ignore\n",
    "\n",
    "labels = app[\"장르\"].value_counts().index.tolist()\n",
    "real_labels = np.append(labels[0:7], \"기타\")\n",
    "\n",
    "fig = plt.figure(figsize=(6, 6))\n",
    "fig.set_facecolor('white')\n",
    "ax = fig.add_subplot()\n",
    "\n",
    "colors2 = sns.color_palette('pastel')[0:8]\n",
    "\n",
    "ax.pie(real_vals, labels=real_labels, labeldistance=1.1, startangle=90, counterclock=False, \n",
    "    colors=colors2,\n",
    "    autopct=\"%.1f%%\",\n",
    "    pctdistance=0.8,\n",
    "    wedgeprops={\n",
    "    'edgecolor': 'black',\n",
    "    'linewidth': 1.5,\n",
    "    'antialiased': True\n",
    "})\n",
    "plt.title(\"장르별 등록된 앱 개수\")\n",
    "plt.legend()\n",
    "plt.show()"
   ]
  },
  {
   "cell_type": "code",
   "execution_count": null,
   "metadata": {},
   "outputs": [],
   "source": [
    "lb = np.array(labels).reshape(-1, 1)\n",
    "# lb\n",
    "# vals\n",
    "fig = plt.figure(figsize=(6, 6))\n",
    "fig.set_facecolor('white')\n",
    "ax = fig.add_subplot()\n",
    "\n",
    "y_pos = np.arange(0, 46, 2)\n",
    "plt.title(\"장르별 등록된 앱 개수\")\n",
    "plt.xlabel(\"앱 개수\")\n",
    "plt.ylabel(\"장르\")\n",
    "# plt.xticks(x_pos)\n",
    "# plt.yticks(y_pos)\n",
    "ax.barh(real_labels, real_vals, \n",
    "        color=colors2,\n",
    "        align='center',\n",
    "        height=0.6\n",
    ")\n",
    "plt.gca().invert_yaxis()"
   ]
  },
  {
   "cell_type": "code",
   "execution_count": null,
   "metadata": {},
   "outputs": [],
   "source": [
    "plt.title(\"장르별 등록된 앱 개수\")\n",
    "plt.xlabel(\"앱 개수\")\n",
    "plt.ylabel(\"장르\")\n",
    "plt.plot(real_vals, real_labels)"
   ]
  },
  {
   "cell_type": "code",
   "execution_count": null,
   "metadata": {},
   "outputs": [],
   "source": [
    "fig = plt.figure(figsize=(6, 6))\n",
    "fig.set_facecolor('white')\n",
    "ax1 = fig.add_subplot()\n",
    "\n",
    "eda1 = pd.DataFrame(\n",
    "    {\n",
    "        '장르': real_labels,\n",
    "        '개수': real_vals\n",
    "    }\n",
    ")\n",
    "\n",
    "# ax1 = sns.scatterplot(data=app, x=\"리뷰\", y=\"장르\", hue=\"장르\")\n",
    "plt.title(\"장르별 등록된 앱 개수\")\n",
    "plt.xlabel(\"앱 개수\")\n",
    "plt.ylabel(\"장르\")\n",
    "ax1 = sns.scatterplot(data=eda1, x=\"개수\", y=\"장르\", hue=\"장르\", s=150)\n",
    "plt.legend([], [], frameon=False)\n",
    "\n",
    "# ax1 - sns.relplot(data=eda1, x=\"장르\", y=\"개수\")"
   ]
  },
  {
   "cell_type": "code",
   "execution_count": null,
   "metadata": {},
   "outputs": [],
   "source": [
    "fig = plt.figure(figsize=(6, 6))\n",
    "fig.set_facecolor('white')\n",
    "ax2 = fig.add_subplot()\n",
    "\n",
    "plt.title(\"별점별 평균 앱 가격\")\n",
    "ax2 = sns.barplot(data=app, x=\"별점\", y=\"가격\", ci=None)\n",
    "ax2.set(ylabel=\"평균 가격 (단위: $)\")\n",
    "plt.legend([], [], frameon=False)\n"
   ]
  },
  {
   "cell_type": "code",
   "execution_count": null,
   "metadata": {},
   "outputs": [],
   "source": [
    "len(app[app[\"가격\"] == 0])"
   ]
  },
  {
   "cell_type": "code",
   "execution_count": null,
   "metadata": {},
   "outputs": [],
   "source": [
    "app.corr(method=\"spearman\")"
   ]
  },
  {
   "cell_type": "code",
   "execution_count": null,
   "metadata": {},
   "outputs": [],
   "source": [
    "fig = plt.figure(figsize=(6, 6))\n",
    "fig.set_facecolor('white')\n",
    "ax3 = fig.add_subplot()\n",
    "\n",
    "plt.title(\"별점별 평균 리뷰 개수\")\n",
    "plt.ticklabel_format(style='plain', axis='y')\n",
    "ax3 = sns.barplot(data=app, x=\"별점\", y=\"리뷰\", ci=None)\n",
    "ax3.set(ylabel=\"평균 리뷰 개수\")\n",
    "\n",
    "plt.legend([], [], frameon=False)"
   ]
  }
 ],
 "metadata": {
  "kernelspec": {
   "display_name": "Python 3",
   "language": "python",
   "name": "python3"
  },
  "language_info": {
   "codemirror_mode": {
    "name": "ipython",
    "version": 3
   },
   "file_extension": ".py",
   "mimetype": "text/x-python",
   "name": "python",
   "nbconvert_exporter": "python",
   "pygments_lexer": "ipython3",
   "version": "3.10.8 (tags/v3.10.8:aaaf517, Oct 11 2022, 16:50:30) [MSC v.1933 64 bit (AMD64)]"
  },
  "orig_nbformat": 4,
  "vscode": {
   "interpreter": {
    "hash": "fb4569285eef3a3450cb62085a5b1e0da4bce0af555edc33dcf29baf3acc1368"
   }
  }
 },
 "nbformat": 4,
 "nbformat_minor": 2
}
