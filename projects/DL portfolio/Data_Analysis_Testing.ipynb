{
  "nbformat": 4,
  "nbformat_minor": 0,
  "metadata": {
    "colab": {
      "provenance": []
    },
    "kernelspec": {
      "name": "python3",
      "display_name": "Python 3"
    },
    "language_info": {
      "name": "python"
    }
  },
  "cells": [
    {
      "cell_type": "markdown",
      "source": [
        "# Prerequisites\n",
        "\n",
        "\n",
        "* csv\n",
        "* matplotlib.pyplot\n",
        "* numpy\n",
        "* LinearRegression (sklearn.linear_model)\n",
        "* sem (scipy.stats)\n",
        "* scipy.stats\n"
      ],
      "metadata": {
        "id": "dUL1NuxVJAK1"
      }
    },
    {
      "cell_type": "code",
      "execution_count": 31,
      "metadata": {
        "id": "WONwl6Gjo0Rs"
      },
      "outputs": [],
      "source": [
        "import csv\n",
        "import matplotlib.pyplot as plt\n",
        "import numpy as np\n",
        "from sklearn.linear_model import LinearRegression\n",
        "from scipy.stats import sem\n",
        "import scipy.stats as stats"
      ]
    },
    {
      "cell_type": "markdown",
      "source": [
        "# 1. Frequency of Listening Music vs. Duration of Study\n"
      ],
      "metadata": {
        "id": "hcKl9iCcJdJB"
      }
    },
    {
      "cell_type": "markdown",
      "source": [
        "## Opening \"survey.csv\" file and read"
      ],
      "metadata": {
        "id": "LykgpwjJJm48"
      }
    },
    {
      "cell_type": "code",
      "source": [
        "f1 = open(\"/content/drive/MyDrive/C3Coding Data Analysis/survey.CSV\", \"r\", encoding = \"UTF-8\")\n",
        "d1 = csv.reader(f1)\n",
        "\n",
        "freq, duration = [], []\n",
        "\n",
        "next(d1)\n",
        "\n",
        "for row in d1:\n",
        "  freq.append(int(row[1]))\n",
        "  duration.append(float(row[2]))\n",
        "\n",
        "# print(freq, duration, sep = '\\n\\n')\n",
        "\n",
        "f1.close()"
      ],
      "metadata": {
        "id": "NG4NFKzhJvIv"
      },
      "execution_count": 32,
      "outputs": []
    },
    {
      "cell_type": "markdown",
      "source": [
        "## Linear Regression Analysis"
      ],
      "metadata": {
        "id": "0dAP6sAlKbic"
      }
    },
    {
      "cell_type": "code",
      "source": [
        "# Creating a regression line (ax + b)\n",
        "\n",
        "x = np.array(freq).reshape((-1, 1))   # independent variables\n",
        "y = np.array(duration)                # dependent variables\n",
        "\n",
        "model = LinearRegression().fit(x, y)\n",
        "\n",
        "r_sq = model.score(x, y)\n",
        "a = model.coef_\n",
        "b = model.intercept_\n",
        "\n",
        "print(f\"Coefficient of Determination: {r_sq}\")  # 결정계수\n",
        "print(f\"Slope: {a}\")\n",
        "print(f\"Intercept: {b}\")"
      ],
      "metadata": {
        "colab": {
          "base_uri": "https://localhost:8080/"
        },
        "id": "tZ10SEL_Kmnf",
        "outputId": "8dce3a27-a8a5-45e6-9404-5daff36777c7"
      },
      "execution_count": 33,
      "outputs": [
        {
          "output_type": "stream",
          "name": "stdout",
          "text": [
            "Coefficient of Determination: 0.13574457227150494\n",
            "Slope: [1.944416]\n",
            "Intercept: 44.452301999999996\n"
          ]
        }
      ]
    },
    {
      "cell_type": "markdown",
      "source": [
        "# 2. Lyrical vs. Non-lyrical Music"
      ],
      "metadata": {
        "id": "LE2CDK3aLgjf"
      }
    },
    {
      "cell_type": "markdown",
      "source": [
        "### Open and Read \"lyrics.csv\" file"
      ],
      "metadata": {
        "id": "179KFvyYLsX-"
      }
    },
    {
      "cell_type": "code",
      "source": [
        "f2 = open(\"/content/drive/MyDrive/C3Coding Data Analysis/lyrics.CSV\", 'r', encoding = \"UTF-8\")\n",
        "d2 = csv.reader(f2)\n",
        "\n",
        "next(d2) # remove header\n",
        "\n",
        "nonlyrical, lyrical = [], []\n",
        "\n",
        "for row in d2:\n",
        "\tif row[0] == \"Non-lyrical\":\n",
        "\t\tnonlyrical.append(np.array(row[1:]).astype(np.int_))  # Convert all element type to integer\n",
        "\telif row[0] == \"Lyrical\":\n",
        "\t\tlyrical.append(np.array(row[1:]).astype(np.int_))      # Convert all element type to integer\n",
        "\n",
        "nonlyrical = np.array(nonlyrical)\n",
        "lyrical = np.array(lyrical)\n",
        "\n",
        "# Independent t-test\n",
        "\n",
        "eq_var = stats.ttest_ind(nonlyrical, lyrical, equal_var=True)\n",
        "print(eq_var)       # Assume variances are equal\n",
        "\n",
        "noneq_var = stats.ttest_ind(nonlyrical, lyrical, equal_var=False)\n",
        "print(noneq_var)    # Assume variances are NOT equal\n"
      ],
      "metadata": {
        "colab": {
          "base_uri": "https://localhost:8080/"
        },
        "id": "lMd7Su8kLkVj",
        "outputId": "a2a851e9-49b2-42bf-8967-5f330a8676b9"
      },
      "execution_count": 34,
      "outputs": [
        {
          "output_type": "stream",
          "name": "stdout",
          "text": [
            "Ttest_indResult(statistic=array([0.27975144, 0.13416408, 1.26201036]), pvalue=array([0.78285756, 0.89476155, 0.22305317]))\n",
            "Ttest_indResult(statistic=array([0.27775099, 0.13429172, 1.22797345]), pvalue=array([0.7846139 , 0.89472323, 0.23860795]))\n"
          ]
        }
      ]
    },
    {
      "cell_type": "markdown",
      "source": [
        "# 3. Classification Analysis"
      ],
      "metadata": {
        "id": "aJbh2SRzOSs0"
      }
    },
    {
      "cell_type": "markdown",
      "source": [
        "## Open and Read \"classification.csv\" file"
      ],
      "metadata": {
        "id": "YBnDK1sDOZvL"
      }
    },
    {
      "cell_type": "code",
      "source": [
        "f3 = open(\"/content/drive/MyDrive/C3Coding Data Analysis/classification.CSV\", 'r', encoding = \"UTF-8\")\n",
        "d3 = csv.reader(f3)\n",
        "\n",
        "next(d3)\n",
        "\n",
        "tot, names = [], []\n",
        "\n",
        "for row in d3:\n",
        "  names.append(row[0])\n",
        "  tot.append(int(row[1]))\n",
        "\n",
        "how_names = names[:5]\n",
        "how = tot[:5]\n",
        "\n",
        "will_names = names[5:]\n",
        "will = tot[5:]"
      ],
      "metadata": {
        "id": "KOslamshOd5O"
      },
      "execution_count": 35,
      "outputs": []
    },
    {
      "cell_type": "markdown",
      "source": [
        "## Graph Representations"
      ],
      "metadata": {
        "id": "YwUWIt17OwXf"
      }
    },
    {
      "cell_type": "code",
      "source": [
        "fig = plt.figure(figsize=(12, 8))\n",
        "plt.subplots_adjust(wspace = 0.25, hspace = 0.25)\n",
        "\n",
        "# Regression Plot Prep\n",
        "\n",
        "coef = np.polyfit(freq, duration, 1)\n",
        "poly1d_fn = np.poly1d(coef)\n",
        "\n",
        "# Classification Plot Prep\n",
        "\n",
        "colors = ['limegreen', 'turquoise', 'darkorange', 'blueviolet', 'firebrick']\n",
        "\n",
        "## Linear Regression Plot\n",
        "\n",
        "sub1 = fig.add_subplot(2, 2, 1)\n",
        "plt.annotate('sub1', xy = (0.5, -0.5), va = 'center', ha = 'center')\n",
        "sub1.plot(freq, duration, 'yo', freq, poly1d_fn(freq), '--k')\n",
        "sub1.set_title(\"Frequency vs. Duration\")\n",
        "sub1.set_xlabel(\"Frequency\")\n",
        "sub1.set_ylabel(\"Duration\")\n",
        "\n",
        "## How does music help studying?\n",
        "\n",
        "sub2 = fig.add_subplot(2, 2, (3, 4))\n",
        "plt.annotate('sub2', xy = (0.5, -0.5), va = 'center', ha = 'center')\n",
        "barlist1 = sub2.barh(how_names, how)\n",
        "for i in range(len(barlist1)):\n",
        "\tbarlist1[i].set_color(colors[i])\n",
        "sub2.set_title(\"How does music help studying?\")\n",
        "sub2.set_xlabel(\"Frequency\")\n",
        "sub2.set_ylabel(\"Answer\")\n",
        "\n",
        "## Do you think music helps studying?\n",
        "\n",
        "sub3 = fig.add_subplot(2, 2, 2)\n",
        "plt.annotate('sub3', xy = (0.5, -0.5), va = 'center', ha = 'center')\n",
        "barlist2 = sub3.bar(will_names, will)\n",
        "barlist2[0].set_color('limegreen')\n",
        "barlist2[1].set_color('firebrick')\n",
        "barlist2[2].set_color('yellow')\n",
        "sub3.set_title(\"Do you think music helps studying?\")\n",
        "sub3.set_xlabel(\"Answer\")\n",
        "sub3.set_ylabel(\"Frequency\")\n",
        "\n",
        "plt.show()"
      ],
      "metadata": {
        "colab": {
          "base_uri": "https://localhost:8080/",
          "height": 562
        },
        "id": "1TjJAUyuO4lX",
        "outputId": "77232be6-07cf-4675-b0f2-074691576220"
      },
      "execution_count": 50,
      "outputs": [
        {
          "output_type": "display_data",
          "data": {
            "text/plain": [
              "<Figure size 864x576 with 3 Axes>"
            ],
            "image/png": "[encoded data removed]"
          },
          "metadata": {
            "needs_background": "light"
          }
        }
      ]
    }
  ]
}